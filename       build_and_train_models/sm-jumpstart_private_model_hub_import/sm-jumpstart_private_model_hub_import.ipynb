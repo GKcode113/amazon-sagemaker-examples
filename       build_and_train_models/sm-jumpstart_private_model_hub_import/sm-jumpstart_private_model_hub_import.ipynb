{
 "cells": [
  {
   "cell_type": "markdown",
   "id": "b3b41849-e88e-49eb-a53e-a89fb6005d8e",
   "metadata": {},
   "source": [
    "# Importing a custom Pytorch model into a SageMaker JumpStart private model hub. \n"
   ]
  },
  {
   "cell_type": "markdown",
   "id": "a00e5075",
   "metadata": {},
   "source": [
    "---\n",
    "\n",
    "This notebook's CI test result for us-west-2 is as follows. CI test results in other regions can be found at the end of the notebook.\n",
    "\n",
    "![This us-west-2 badge failed to load. Check your device's internet connectivity, otherwise the service is currently unavailable](https://prod.us-west-2.tcx-beacon.docs.aws.dev/sagemaker-nb/us-west-2/NOTEBOOK_PATH)\n",
    "\n",
    "---"
   ]
  },
  {
   "cell_type": "markdown",
   "id": "6f07eb2c-38f7-48b3-a8cd-b6e52ddb4b1c",
   "metadata": {},
   "source": [
    "This notebook demostrates how to import custom machine learning model into an Amazon SageMaker JumpStart private model hub. We will start by creating a very simple ANN model with Pytorch. This model built from scratch will be our demo model. We will import it in the the model hub. And finally, we will deploy the model from the private model hub.\n",
    "\n",
    "The model is a simple ANN model with three fully connected layers. The model takes in 2D input features (X) and predicts a binary classification output (y).The synthetic dataset we're using is generated as follows:\n",
    "- The input features (X) are randomly generated within the range of [-5, 5] for both dimensions.\n",
    "- The target labels (y) are assigned based on whether the Euclidean distance of the input feature from the origin (0, 0) is less than 5 or not. If the distance is less than 5, the label is 1, otherwise, it's 0.\n",
    "\n",
    "The goal of the model is to learn the underlying relationship between the 2D input features and the binary target labels. The model is trained using the Binary Cross-Entropy loss function and the Adam optimizer.\n",
    "\n",
    "\n",
    "Note: This notebook was tested in Amazon SageMaker Studio on ml.c5.large instance with Python 3 kernel."
   ]
  },
  {
   "cell_type": "markdown",
   "id": "9570a9ca-e6d6-43f9-81e5-a1951b243b47",
   "metadata": {},
   "source": [
    "## 1. Set Up\n",
    "\n",
    "---\n",
    "Before executing the notebook, there are some initial steps required for setup.\n",
    "\n",
    "---"
   ]
  },
  {
   "cell_type": "code",
   "execution_count": 1,
   "id": "a1c6b002-8dad-401c-bfe1-bc40f476cfd5",
   "metadata": {},
   "outputs": [
    {
     "name": "stdout",
     "output_type": "stream",
     "text": [
      "Requirement already satisfied: sagemaker in /opt/conda/lib/python3.11/site-packages (2.239.1)\n",
      "Requirement already satisfied: boto3 in /opt/conda/lib/python3.11/site-packages (1.36.21)\n",
      "Requirement already satisfied: botocore in /opt/conda/lib/python3.11/site-packages (1.36.21)\n",
      "Requirement already satisfied: attrs<24,>=23.1.0 in /opt/conda/lib/python3.11/site-packages (from sagemaker) (23.2.0)\n",
      "Requirement already satisfied: cloudpickle>=2.2.1 in /opt/conda/lib/python3.11/site-packages (from sagemaker) (3.1.1)\n",
      "Requirement already satisfied: docker in /opt/conda/lib/python3.11/site-packages (from sagemaker) (7.1.0)\n",
      "Requirement already satisfied: fastapi in /opt/conda/lib/python3.11/site-packages (from sagemaker) (0.115.8)\n",
      "Requirement already satisfied: google-pasta in /opt/conda/lib/python3.11/site-packages (from sagemaker) (0.2.0)\n",
      "Requirement already satisfied: importlib-metadata<7.0,>=1.4.0 in /opt/conda/lib/python3.11/site-packages (from sagemaker) (6.11.0)\n",
      "Requirement already satisfied: jsonschema in /opt/conda/lib/python3.11/site-packages (from sagemaker) (4.23.0)\n",
      "Requirement already satisfied: numpy<2.0,>=1.9.0 in /opt/conda/lib/python3.11/site-packages (from sagemaker) (1.26.4)\n",
      "Requirement already satisfied: omegaconf<=2.3,>=2.2 in /opt/conda/lib/python3.11/site-packages (from sagemaker) (2.3.0)\n",
      "Requirement already satisfied: packaging>=20.0 in /opt/conda/lib/python3.11/site-packages (from sagemaker) (24.2)\n",
      "Requirement already satisfied: pandas in /opt/conda/lib/python3.11/site-packages (from sagemaker) (2.2.3)\n",
      "Requirement already satisfied: pathos in /opt/conda/lib/python3.11/site-packages (from sagemaker) (0.3.3)\n",
      "Requirement already satisfied: platformdirs in /opt/conda/lib/python3.11/site-packages (from sagemaker) (4.3.6)\n",
      "Requirement already satisfied: protobuf<6.0,>=3.12 in /opt/conda/lib/python3.11/site-packages (from sagemaker) (5.29.3)\n",
      "Requirement already satisfied: psutil in /opt/conda/lib/python3.11/site-packages (from sagemaker) (7.0.0)\n",
      "Requirement already satisfied: pyyaml~=6.0 in /opt/conda/lib/python3.11/site-packages (from sagemaker) (6.0.2)\n",
      "Requirement already satisfied: requests in /opt/conda/lib/python3.11/site-packages (from sagemaker) (2.32.3)\n",
      "Requirement already satisfied: sagemaker-core<2.0.0,>=1.0.17 in /opt/conda/lib/python3.11/site-packages (from sagemaker) (1.0.22)\n",
      "Requirement already satisfied: schema in /opt/conda/lib/python3.11/site-packages (from sagemaker) (0.7.7)\n",
      "Requirement already satisfied: smdebug-rulesconfig==1.0.1 in /opt/conda/lib/python3.11/site-packages (from sagemaker) (1.0.1)\n",
      "Requirement already satisfied: tblib<4,>=1.7.0 in /opt/conda/lib/python3.11/site-packages (from sagemaker) (3.0.0)\n",
      "Requirement already satisfied: tqdm in /opt/conda/lib/python3.11/site-packages (from sagemaker) (4.67.1)\n",
      "Requirement already satisfied: urllib3<3.0.0,>=1.26.8 in /opt/conda/lib/python3.11/site-packages (from sagemaker) (2.3.0)\n",
      "Requirement already satisfied: uvicorn in /opt/conda/lib/python3.11/site-packages (from sagemaker) (0.34.0)\n",
      "Requirement already satisfied: jmespath<2.0.0,>=0.7.1 in /opt/conda/lib/python3.11/site-packages (from boto3) (1.0.1)\n",
      "Requirement already satisfied: s3transfer<0.12.0,>=0.11.0 in /opt/conda/lib/python3.11/site-packages (from boto3) (0.11.2)\n",
      "Requirement already satisfied: python-dateutil<3.0.0,>=2.1 in /opt/conda/lib/python3.11/site-packages (from botocore) (2.9.0.post0)\n",
      "Requirement already satisfied: zipp>=0.5 in /opt/conda/lib/python3.11/site-packages (from importlib-metadata<7.0,>=1.4.0->sagemaker) (3.21.0)\n",
      "Requirement already satisfied: antlr4-python3-runtime==4.9.* in /opt/conda/lib/python3.11/site-packages (from omegaconf<=2.3,>=2.2->sagemaker) (4.9.3)\n",
      "Requirement already satisfied: six>=1.5 in /opt/conda/lib/python3.11/site-packages (from python-dateutil<3.0.0,>=2.1->botocore) (1.17.0)\n",
      "Requirement already satisfied: pydantic<3.0.0,>=2.0.0 in /opt/conda/lib/python3.11/site-packages (from sagemaker-core<2.0.0,>=1.0.17->sagemaker) (2.10.6)\n",
      "Requirement already satisfied: rich<14.0.0,>=13.0.0 in /opt/conda/lib/python3.11/site-packages (from sagemaker-core<2.0.0,>=1.0.17->sagemaker) (13.9.4)\n",
      "Requirement already satisfied: mock<5.0,>4.0 in /opt/conda/lib/python3.11/site-packages (from sagemaker-core<2.0.0,>=1.0.17->sagemaker) (4.0.3)\n",
      "Requirement already satisfied: jsonschema-specifications>=2023.03.6 in /opt/conda/lib/python3.11/site-packages (from jsonschema->sagemaker) (2024.10.1)\n",
      "Requirement already satisfied: referencing>=0.28.4 in /opt/conda/lib/python3.11/site-packages (from jsonschema->sagemaker) (0.36.2)\n",
      "Requirement already satisfied: rpds-py>=0.7.1 in /opt/conda/lib/python3.11/site-packages (from jsonschema->sagemaker) (0.22.3)\n",
      "Requirement already satisfied: charset-normalizer<4,>=2 in /opt/conda/lib/python3.11/site-packages (from requests->sagemaker) (3.4.1)\n",
      "Requirement already satisfied: idna<4,>=2.5 in /opt/conda/lib/python3.11/site-packages (from requests->sagemaker) (3.10)\n",
      "Requirement already satisfied: certifi>=2017.4.17 in /opt/conda/lib/python3.11/site-packages (from requests->sagemaker) (2025.1.31)\n",
      "Requirement already satisfied: starlette<0.46.0,>=0.40.0 in /opt/conda/lib/python3.11/site-packages (from fastapi->sagemaker) (0.45.3)\n",
      "Requirement already satisfied: typing-extensions>=4.8.0 in /opt/conda/lib/python3.11/site-packages (from fastapi->sagemaker) (4.12.2)\n",
      "Requirement already satisfied: pytz>=2020.1 in /opt/conda/lib/python3.11/site-packages (from pandas->sagemaker) (2025.1)\n",
      "Requirement already satisfied: tzdata>=2022.7 in /opt/conda/lib/python3.11/site-packages (from pandas->sagemaker) (2025.1)\n",
      "Requirement already satisfied: ppft>=1.7.6.9 in /opt/conda/lib/python3.11/site-packages (from pathos->sagemaker) (1.7.6.9)\n",
      "Requirement already satisfied: dill>=0.3.9 in /opt/conda/lib/python3.11/site-packages (from pathos->sagemaker) (0.3.9)\n",
      "Requirement already satisfied: pox>=0.3.5 in /opt/conda/lib/python3.11/site-packages (from pathos->sagemaker) (0.3.5)\n",
      "Requirement already satisfied: multiprocess>=0.70.17 in /opt/conda/lib/python3.11/site-packages (from pathos->sagemaker) (0.70.17)\n",
      "Requirement already satisfied: click>=7.0 in /opt/conda/lib/python3.11/site-packages (from uvicorn->sagemaker) (8.1.8)\n",
      "Requirement already satisfied: h11>=0.8 in /opt/conda/lib/python3.11/site-packages (from uvicorn->sagemaker) (0.14.0)\n",
      "Requirement already satisfied: annotated-types>=0.6.0 in /opt/conda/lib/python3.11/site-packages (from pydantic<3.0.0,>=2.0.0->sagemaker-core<2.0.0,>=1.0.17->sagemaker) (0.7.0)\n",
      "Requirement already satisfied: pydantic-core==2.27.2 in /opt/conda/lib/python3.11/site-packages (from pydantic<3.0.0,>=2.0.0->sagemaker-core<2.0.0,>=1.0.17->sagemaker) (2.27.2)\n",
      "Requirement already satisfied: markdown-it-py>=2.2.0 in /opt/conda/lib/python3.11/site-packages (from rich<14.0.0,>=13.0.0->sagemaker-core<2.0.0,>=1.0.17->sagemaker) (3.0.0)\n",
      "Requirement already satisfied: pygments<3.0.0,>=2.13.0 in /opt/conda/lib/python3.11/site-packages (from rich<14.0.0,>=13.0.0->sagemaker-core<2.0.0,>=1.0.17->sagemaker) (2.19.1)\n",
      "Requirement already satisfied: anyio<5,>=3.6.2 in /opt/conda/lib/python3.11/site-packages (from starlette<0.46.0,>=0.40.0->fastapi->sagemaker) (4.8.0)\n",
      "Requirement already satisfied: sniffio>=1.1 in /opt/conda/lib/python3.11/site-packages (from anyio<5,>=3.6.2->starlette<0.46.0,>=0.40.0->fastapi->sagemaker) (1.3.1)\n",
      "Requirement already satisfied: mdurl~=0.1 in /opt/conda/lib/python3.11/site-packages (from markdown-it-py>=2.2.0->rich<14.0.0,>=13.0.0->sagemaker-core<2.0.0,>=1.0.17->sagemaker) (0.1.2)\n"
     ]
    }
   ],
   "source": [
    "# update the sagemaker package version\n",
    "# restart the kernel after upgrading\n",
    "!pip install --upgrade sagemaker boto3 botocore"
   ]
  },
  {
   "cell_type": "code",
   "execution_count": 2,
   "id": "e3a41c2a-bc24-4d64-b980-e67ce69cad9a",
   "metadata": {},
   "outputs": [
    {
     "name": "stderr",
     "output_type": "stream",
     "text": [
      "/opt/conda/lib/python3.11/site-packages/pydantic/_internal/_fields.py:192: UserWarning: Field name \"json\" in \"MonitoringDatasetFormat\" shadows an attribute in parent \"Base\"\n",
      "  warnings.warn(\n"
     ]
    },
    {
     "name": "stdout",
     "output_type": "stream",
     "text": [
      "sagemaker.config INFO - Not applying SDK defaults from location: /etc/xdg/sagemaker/config.yaml\n",
      "sagemaker.config INFO - Not applying SDK defaults from location: /home/sagemaker-user/.config/sagemaker/config.yaml\n"
     ]
    }
   ],
   "source": [
    "import sagemaker\n",
    "import torch\n",
    "import torch.nn as nn\n",
    "import numpy as np\n",
    "import matplotlib.pyplot as plt\n",
    "import boto3\n",
    "import os\n",
    "import json\n",
    "\n",
    "import warnings\n",
    "warnings.filterwarnings('ignore')"
   ]
  },
  {
   "cell_type": "markdown",
   "id": "3a393e03-e77b-45b4-addc-ad9ab4d02e74",
   "metadata": {},
   "source": [
    "## 2. Generate synthetic data for training"
   ]
  },
  {
   "cell_type": "code",
   "execution_count": 3,
   "id": "3e36b9fc-9e73-4644-bbc1-f926b277e62d",
   "metadata": {},
   "outputs": [],
   "source": [
    "# Generate synthetic dataset\n",
    "num_samples = 1000\n",
    "X = np.random.rand(num_samples, 2) * 10 - 5  # Input features (2D)\n",
    "y = np.where(X[:, 0] ** 2 + X[:, 1] ** 2 < 25, 1.0, 0.0)  # Target labels (binary classification)\n",
    "\n",
    "# Convert dataset to PyTorch tensors\n",
    "X_tensor = torch.tensor(X, dtype=torch.float32)\n",
    "y_tensor = torch.tensor(y, dtype=torch.float32)"
   ]
  },
  {
   "cell_type": "markdown",
   "id": "2f0af1ba-c0c1-4256-b7b7-7e4fef644bd4",
   "metadata": {},
   "source": [
    "## 3. Define the Pytorch ANN model and training"
   ]
  },
  {
   "cell_type": "code",
   "execution_count": 4,
   "id": "ea27eba7-417b-482e-b23b-a07c388f7c70",
   "metadata": {},
   "outputs": [],
   "source": [
    "class ANN(nn.Module):\n",
    "    def __init__(self):\n",
    "        super(ANN, self).__init__()\n",
    "        self.fc1 = nn.Linear(2, 64)\n",
    "        self.fc2 = nn.Linear(64, 32)\n",
    "        self.fc3 = nn.Linear(32, 1)\n",
    "        self.sigmoid = nn.Sigmoid()\n",
    "\n",
    "    def forward(self, x):\n",
    "        x = self.fc1(x)\n",
    "        x = torch.relu(x)\n",
    "        x = self.fc2(x)\n",
    "        x = torch.relu(x)\n",
    "        x = self.fc3(x)\n",
    "        x = self.sigmoid(x)\n",
    "        return x"
   ]
  },
  {
   "cell_type": "code",
   "execution_count": 5,
   "id": "f755ff7a-6313-4e9b-be91-d4a45bd163e1",
   "metadata": {},
   "outputs": [
    {
     "name": "stdout",
     "output_type": "stream",
     "text": [
      "Epoch [100/1000], Loss: 0.2945\n",
      "Epoch [200/1000], Loss: 0.1170\n",
      "Epoch [300/1000], Loss: 0.0690\n",
      "Epoch [400/1000], Loss: 0.0479\n",
      "Epoch [500/1000], Loss: 0.0362\n",
      "Epoch [600/1000], Loss: 0.0288\n",
      "Epoch [700/1000], Loss: 0.0237\n",
      "Epoch [800/1000], Loss: 0.0199\n",
      "Epoch [900/1000], Loss: 0.0170\n",
      "Epoch [1000/1000], Loss: 0.0148\n",
      "Accuracy: 0.9990\n"
     ]
    }
   ],
   "source": [
    "# Create the model\n",
    "model = ANN()\n",
    "\n",
    "# Define the loss function and optimizer\n",
    "criterion = nn.BCELoss()\n",
    "optimizer = torch.optim.Adam(model.parameters(), lr=0.001)\n",
    "\n",
    "# Train the model\n",
    "num_epochs = 1000\n",
    "for epoch in range(num_epochs):\n",
    "    # Forward pass\n",
    "    outputs = model(X_tensor)\n",
    "    loss = criterion(outputs, y_tensor.unsqueeze(1))\n",
    "\n",
    "    # Backward and optimize\n",
    "    optimizer.zero_grad()\n",
    "    loss.backward()\n",
    "    optimizer.step()\n",
    "\n",
    "    if (epoch + 1) % 100 == 0:\n",
    "        print(f\"Epoch [{epoch+1}/{num_epochs}], Loss: {loss.item():.4f}\")\n",
    "\n",
    "# Evaluate the model\n",
    "with torch.no_grad():\n",
    "    y_pred = (outputs > 0.5).float()\n",
    "    accuracy = (y_pred == y_tensor.unsqueeze(1)).float().mean()\n",
    "    print(f\"Accuracy: {accuracy.item():.4f}\")"
   ]
  },
  {
   "cell_type": "code",
   "execution_count": 6,
   "id": "45b224f5-093c-4bff-aa58-a574730b5884",
   "metadata": {},
   "outputs": [
    {
     "data": {
      "image/png": "[encoded data removed]",
      "text/plain": [
       "<Figure size 800x600 with 2 Axes>"
      ]
     },
     "metadata": {},
     "output_type": "display_data"
    }
   ],
   "source": [
    "# Plot the decision boundary\n",
    "plt.figure(figsize=(8, 6))\n",
    "plt.scatter(X[:, 0], X[:, 1], c=y, cmap=\"viridis\")\n",
    "\n",
    "x1 = np.linspace(-5, 5, 100)\n",
    "x2 = np.linspace(-5, 5, 100)\n",
    "X1, X2 = np.meshgrid(x1, x2)\n",
    "\n",
    "with torch.no_grad():\n",
    "    Z = model(torch.tensor(np.column_stack((X1.ravel(), X2.ravel())), dtype=torch.float32))\n",
    "    Z = Z.reshape(X1.shape)\n",
    "\n",
    "plt.contourf(X1, X2, Z, levels=[0, 0.5, 1], cmap=\"viridis\", alpha=0.5)\n",
    "plt.colorbar()\n",
    "plt.title(\"Decision Boundary\")\n",
    "plt.xlabel(\"Feature 1\")\n",
    "plt.ylabel(\"Feature 2\")\n",
    "plt.show()"
   ]
  },
  {
   "cell_type": "code",
   "execution_count": 7,
   "id": "71a9e9fb-8b25-4112-9656-e10fc9e15b50",
   "metadata": {},
   "outputs": [],
   "source": [
    "# Save the trained model\n",
    "torch.save(model.state_dict(), \"model.pth\")"
   ]
  },
  {
   "cell_type": "markdown",
   "id": "029277e2-80ff-470d-abce-2aa72e5571d9",
   "metadata": {},
   "source": [
    "## 4. Creates a new instance of the model and evaluate "
   ]
  },
  {
   "cell_type": "code",
   "execution_count": 8,
   "id": "7f17518e-1c1f-4f60-bce4-f0f73b072b22",
   "metadata": {},
   "outputs": [],
   "source": [
    "# creates a new instance of the ANN class\n",
    "model2 = ANN()"
   ]
  },
  {
   "cell_type": "code",
   "execution_count": 9,
   "id": "4c4320d4-5eaa-4a8f-8b45-7037140c89c1",
   "metadata": {},
   "outputs": [
    {
     "data": {
      "text/plain": [
       "ANN(\n",
       "  (fc1): Linear(in_features=2, out_features=64, bias=True)\n",
       "  (fc2): Linear(in_features=64, out_features=32, bias=True)\n",
       "  (fc3): Linear(in_features=32, out_features=1, bias=True)\n",
       "  (sigmoid): Sigmoid()\n",
       ")"
      ]
     },
     "execution_count": 9,
     "metadata": {},
     "output_type": "execute_result"
    }
   ],
   "source": [
    "# loads the pre-trained model weights from the file 'model.pth' and assigns them to the model2 instance.\n",
    "# set the model to evaluation mode. PyTorch, models have two modes: training mode and evaluation mode. Training mode is used during the training process, while evaluation mode is used for making predictions.\n",
    "\n",
    "model2.load_state_dict(torch.load(\"model.pth\"))\n",
    "model2.eval()"
   ]
  },
  {
   "cell_type": "code",
   "execution_count": 10,
   "id": "6c452efe-3b91-4a69-b56c-48122018d774",
   "metadata": {},
   "outputs": [],
   "source": [
    "# Prepare the input data for evaluation\n",
    "X_test = np.random.rand(1, 2) * 10 - 5  # Generate a random test sample\n",
    "X_tensor = torch.tensor(X_test, dtype=torch.float32)"
   ]
  },
  {
   "cell_type": "code",
   "execution_count": 11,
   "id": "7ef2d231-579c-4be4-984e-76ee5506e6a4",
   "metadata": {},
   "outputs": [
    {
     "name": "stdout",
     "output_type": "stream",
     "text": [
      "Input: [[ 2.46922661 -2.84461124]]\n",
      "Predicted output: 1.0\n"
     ]
    }
   ],
   "source": [
    "# Run the model inference\n",
    "with torch.no_grad():\n",
    "    output = model2(X_tensor)\n",
    "    y_pred = (output > 0.5).float().item()\n",
    "\n",
    "print(f\"Input: {X_test}\")\n",
    "print(f\"Predicted output: {y_pred}\")"
   ]
  },
  {
   "cell_type": "markdown",
   "id": "63f72b52-1aff-4db6-87ec-5f41732f8d07",
   "metadata": {},
   "source": [
    "# 5. Create the model artifact"
   ]
  },
  {
   "cell_type": "code",
   "execution_count": 12,
   "id": "245eebfa-4c81-4ad9-b82c-1f331734f6b0",
   "metadata": {},
   "outputs": [],
   "source": [
    "!tar -czf model.tar.gz model.pth code/inference.py"
   ]
  },
  {
   "cell_type": "markdown",
   "id": "43582383-3c8a-437c-a67d-f8b44769ee38",
   "metadata": {},
   "source": [
    "# 6. Deploy the model as a SageMaker Endpoint"
   ]
  },
  {
   "cell_type": "code",
   "execution_count": 13,
   "id": "b8d847bf-e783-4b5b-9113-365ad4aa26ff",
   "metadata": {},
   "outputs": [],
   "source": [
    "from sagemaker.pytorch import PyTorchModel"
   ]
  },
  {
   "cell_type": "code",
   "execution_count": 14,
   "id": "db69e86e-7376-4389-83a2-6fc161a707b8",
   "metadata": {},
   "outputs": [
    {
     "name": "stdout",
     "output_type": "stream",
     "text": [
      "The default SageMaker bucket is: sagemaker-us-east-1-891376962744\n"
     ]
    }
   ],
   "source": [
    "sess = sagemaker.Session()\n",
    "\n",
    "# Get the default SageMaker bucket\n",
    "default_bucket = sess.default_bucket()\n",
    "print(f\"The default SageMaker bucket is: {default_bucket}\")\n",
    "\n",
    "s3 = boto3.resource(\"s3\")\n",
    "sagemaker_runtime = boto3.client(\"sagemaker-runtime\")\n",
    "\n",
    "key = \"demo-model/model.tar.gz\"\n",
    "\n",
    "# Upload the model artifact to Amazon S3\n",
    "s3.Bucket(default_bucket).upload_file(\"model.tar.gz\", key)\n",
    "\n",
    "role = sagemaker.get_execution_role()"
   ]
  },
  {
   "cell_type": "code",
   "execution_count": 15,
   "id": "e6e75f49-da94-4295-b97e-96ea95e84e0e",
   "metadata": {},
   "outputs": [
    {
     "data": {
      "text/html": [
       "<pre style=\"white-space:pre;overflow-x:auto;line-height:normal;font-family:Menlo,'DejaVu Sans Mono',consolas,'Courier New',monospace\"><span style=\"color: #7fbfbf; text-decoration-color: #7fbfbf\">[02/17/25 14:45:29] </span><span style=\"color: #0069ff; text-decoration-color: #0069ff; font-weight: bold\">INFO    </span> Repacking model artifact                                                  <a href=\"file:///opt/conda/lib/python3.11/site-packages/sagemaker/model.py\" target=\"_blank\"><span style=\"color: #7f7f7f; text-decoration-color: #7f7f7f\">model.py</span></a><span style=\"color: #7f7f7f; text-decoration-color: #7f7f7f\">:</span><a href=\"file:///opt/conda/lib/python3.11/site-packages/sagemaker/model.py#819\" target=\"_blank\"><span style=\"color: #7f7f7f; text-decoration-color: #7f7f7f\">819</span></a>\n",
       "<span style=\"color: #7fbfbf; text-decoration-color: #7fbfbf\">                    </span>         <span style=\"font-weight: bold\">(</span>s3:<span style=\"color: #e100e1; text-decoration-color: #e100e1\">//sagemaker-us-east-1-891376962744/demo-model/model.tar.gz</span><span style=\"font-weight: bold\">)</span>, script   <span style=\"color: #7f7f7f; text-decoration-color: #7f7f7f\">            </span>\n",
       "<span style=\"color: #7fbfbf; text-decoration-color: #7fbfbf\">                    </span>         artifact <span style=\"font-weight: bold\">(</span><span style=\"color: #e100e1; text-decoration-color: #e100e1; font-style: italic\">None</span><span style=\"font-weight: bold\">)</span>, and dependencies <span style=\"font-weight: bold\">([])</span> into single tar.gz file located at <span style=\"color: #7f7f7f; text-decoration-color: #7f7f7f\">            </span>\n",
       "<span style=\"color: #7fbfbf; text-decoration-color: #7fbfbf\">                    </span>         s3:<span style=\"color: #e100e1; text-decoration-color: #e100e1\">//sagemaker-us-east-1-891376962744/pytorch-inference-2025-02-17-14-45-</span> <span style=\"color: #7f7f7f; text-decoration-color: #7f7f7f\">            </span>\n",
       "<span style=\"color: #7fbfbf; text-decoration-color: #7fbfbf\">                    </span>         <span style=\"color: #e100e1; text-decoration-color: #e100e1\">29-731/model.tar.gz.</span> This may take some time depending on model size<span style=\"color: #808000; text-decoration-color: #808000\">...</span>   <span style=\"color: #7f7f7f; text-decoration-color: #7f7f7f\">            </span>\n",
       "</pre>\n"
      ],
      "text/plain": [
       "\u001b[2;36m[02/17/25 14:45:29]\u001b[0m\u001b[2;36m \u001b[0m\u001b[1;38;2;0;105;255mINFO    \u001b[0m Repacking model artifact                                                  \u001b]8;id=454349;file:///opt/conda/lib/python3.11/site-packages/sagemaker/model.py\u001b\\\u001b[2mmodel.py\u001b[0m\u001b]8;;\u001b\\\u001b[2m:\u001b[0m\u001b]8;id=966438;file:///opt/conda/lib/python3.11/site-packages/sagemaker/model.py#819\u001b\\\u001b[2m819\u001b[0m\u001b]8;;\u001b\\\n",
       "\u001b[2;36m                    \u001b[0m         \u001b[1m(\u001b[0ms3:\u001b[38;2;225;0;225m/\u001b[0m\u001b[38;2;225;0;225m/sagemaker-us-east-1-891376962744/demo-model/\u001b[0m\u001b[38;2;225;0;225mmodel.tar.gz\u001b[0m\u001b[1m)\u001b[0m, script   \u001b[2m            \u001b[0m\n",
       "\u001b[2;36m                    \u001b[0m         artifact \u001b[1m(\u001b[0m\u001b[3;38;2;225;0;225mNone\u001b[0m\u001b[1m)\u001b[0m, and dependencies \u001b[1m(\u001b[0m\u001b[1m[\u001b[0m\u001b[1m]\u001b[0m\u001b[1m)\u001b[0m into single tar.gz file located at \u001b[2m            \u001b[0m\n",
       "\u001b[2;36m                    \u001b[0m         s3:\u001b[38;2;225;0;225m/\u001b[0m\u001b[38;2;225;0;225m/sagemaker-us-east-1-891376962744/pytorch-inference-2025-02-17-14-45-\u001b[0m \u001b[2m            \u001b[0m\n",
       "\u001b[2;36m                    \u001b[0m         \u001b[38;2;225;0;225m29-731/\u001b[0m\u001b[38;2;225;0;225mmodel.tar.gz.\u001b[0m This may take some time depending on model size\u001b[33m...\u001b[0m   \u001b[2m            \u001b[0m\n"
      ]
     },
     "metadata": {},
     "output_type": "display_data"
    },
    {
     "data": {
      "text/html": [
       "<pre style=\"white-space:pre;overflow-x:auto;line-height:normal;font-family:Menlo,'DejaVu Sans Mono',consolas,'Courier New',monospace\"><span style=\"color: #7fbfbf; text-decoration-color: #7fbfbf\">[02/17/25 14:45:30] </span><span style=\"color: #0069ff; text-decoration-color: #0069ff; font-weight: bold\">INFO    </span> Creating model with name: pytorch-inference-<span style=\"color: #008080; text-decoration-color: #008080; font-weight: bold\">2025</span>-02-17-14-45-30-164    <a href=\"file:///opt/conda/lib/python3.11/site-packages/sagemaker/session.py\" target=\"_blank\"><span style=\"color: #7f7f7f; text-decoration-color: #7f7f7f\">session.py</span></a><span style=\"color: #7f7f7f; text-decoration-color: #7f7f7f\">:</span><a href=\"file:///opt/conda/lib/python3.11/site-packages/sagemaker/session.py#4094\" target=\"_blank\"><span style=\"color: #7f7f7f; text-decoration-color: #7f7f7f\">4094</span></a>\n",
       "</pre>\n"
      ],
      "text/plain": [
       "\u001b[2;36m[02/17/25 14:45:30]\u001b[0m\u001b[2;36m \u001b[0m\u001b[1;38;2;0;105;255mINFO    \u001b[0m Creating model with name: pytorch-inference-\u001b[1;36m2025\u001b[0m-02-17-14-45-30-164    \u001b]8;id=470103;file:///opt/conda/lib/python3.11/site-packages/sagemaker/session.py\u001b\\\u001b[2msession.py\u001b[0m\u001b]8;;\u001b\\\u001b[2m:\u001b[0m\u001b]8;id=820419;file:///opt/conda/lib/python3.11/site-packages/sagemaker/session.py#4094\u001b\\\u001b[2m4094\u001b[0m\u001b]8;;\u001b\\\n"
      ]
     },
     "metadata": {},
     "output_type": "display_data"
    },
    {
     "data": {
      "text/html": [
       "<pre style=\"white-space:pre;overflow-x:auto;line-height:normal;font-family:Menlo,'DejaVu Sans Mono',consolas,'Courier New',monospace\"><span style=\"color: #7fbfbf; text-decoration-color: #7fbfbf\">                    </span><span style=\"color: #0069ff; text-decoration-color: #0069ff; font-weight: bold\">INFO    </span> Creating endpoint-config with name                                     <a href=\"file:///opt/conda/lib/python3.11/site-packages/sagemaker/session.py\" target=\"_blank\"><span style=\"color: #7f7f7f; text-decoration-color: #7f7f7f\">session.py</span></a><span style=\"color: #7f7f7f; text-decoration-color: #7f7f7f\">:</span><a href=\"file:///opt/conda/lib/python3.11/site-packages/sagemaker/session.py#5889\" target=\"_blank\"><span style=\"color: #7f7f7f; text-decoration-color: #7f7f7f\">5889</span></a>\n",
       "<span style=\"color: #7fbfbf; text-decoration-color: #7fbfbf\">                    </span>         pytorch-inference-<span style=\"color: #008080; text-decoration-color: #008080; font-weight: bold\">2025</span>-02-17-14-45-30-906                              <span style=\"color: #7f7f7f; text-decoration-color: #7f7f7f\">               </span>\n",
       "</pre>\n"
      ],
      "text/plain": [
       "\u001b[2;36m                   \u001b[0m\u001b[2;36m \u001b[0m\u001b[1;38;2;0;105;255mINFO    \u001b[0m Creating endpoint-config with name                                     \u001b]8;id=616689;file:///opt/conda/lib/python3.11/site-packages/sagemaker/session.py\u001b\\\u001b[2msession.py\u001b[0m\u001b]8;;\u001b\\\u001b[2m:\u001b[0m\u001b]8;id=811888;file:///opt/conda/lib/python3.11/site-packages/sagemaker/session.py#5889\u001b\\\u001b[2m5889\u001b[0m\u001b]8;;\u001b\\\n",
       "\u001b[2;36m                    \u001b[0m         pytorch-inference-\u001b[1;36m2025\u001b[0m-02-17-14-45-30-906                              \u001b[2m               \u001b[0m\n"
      ]
     },
     "metadata": {},
     "output_type": "display_data"
    },
    {
     "data": {
      "text/html": [
       "<pre style=\"white-space:pre;overflow-x:auto;line-height:normal;font-family:Menlo,'DejaVu Sans Mono',consolas,'Courier New',monospace\"><span style=\"color: #7fbfbf; text-decoration-color: #7fbfbf\">[02/17/25 14:45:31] </span><span style=\"color: #0069ff; text-decoration-color: #0069ff; font-weight: bold\">INFO    </span> Creating endpoint with name pytorch-inference-<span style=\"color: #008080; text-decoration-color: #008080; font-weight: bold\">2025</span>-02-17-14-45-30-906  <a href=\"file:///opt/conda/lib/python3.11/site-packages/sagemaker/session.py\" target=\"_blank\"><span style=\"color: #7f7f7f; text-decoration-color: #7f7f7f\">session.py</span></a><span style=\"color: #7f7f7f; text-decoration-color: #7f7f7f\">:</span><a href=\"file:///opt/conda/lib/python3.11/site-packages/sagemaker/session.py#4711\" target=\"_blank\"><span style=\"color: #7f7f7f; text-decoration-color: #7f7f7f\">4711</span></a>\n",
       "</pre>\n"
      ],
      "text/plain": [
       "\u001b[2;36m[02/17/25 14:45:31]\u001b[0m\u001b[2;36m \u001b[0m\u001b[1;38;2;0;105;255mINFO    \u001b[0m Creating endpoint with name pytorch-inference-\u001b[1;36m2025\u001b[0m-02-17-14-45-30-906  \u001b]8;id=431130;file:///opt/conda/lib/python3.11/site-packages/sagemaker/session.py\u001b\\\u001b[2msession.py\u001b[0m\u001b]8;;\u001b\\\u001b[2m:\u001b[0m\u001b]8;id=387558;file:///opt/conda/lib/python3.11/site-packages/sagemaker/session.py#4711\u001b\\\u001b[2m4711\u001b[0m\u001b]8;;\u001b\\\n"
      ]
     },
     "metadata": {},
     "output_type": "display_data"
    },
    {
     "name": "stdout",
     "output_type": "stream",
     "text": [
      "-----------!The deployed endpoint name is: pytorch-inference-2025-02-17-14-45-30-906\n"
     ]
    }
   ],
   "source": [
    "# Deploying an endpoint using the model\n",
    "\n",
    "model = PyTorchModel(\n",
    "    model_data=f\"s3://{default_bucket}/{key}\",\n",
    "    entry_point=\"inference.py\",\n",
    "    role=role,\n",
    "    framework_version=\"2.3.0\",\n",
    "    py_version=\"py311\",\n",
    ")\n",
    "\n",
    "endpoint = model.deploy(initial_instance_count=1, instance_type=\"ml.t2.medium\")\n",
    "\n",
    "# Get the endpoint name\n",
    "endpoint_name = endpoint.endpoint_name\n",
    "\n",
    "print(f\"The deployed endpoint name is: {endpoint_name}\")"
   ]
  },
  {
   "cell_type": "markdown",
   "id": "e92d2a9a-b439-48cc-b557-2b388faf4b91",
   "metadata": {},
   "source": [
    "# 7. Performing inference using the SageMaker endpoint"
   ]
  },
  {
   "cell_type": "code",
   "execution_count": 16,
   "id": "53cc148e-7dc1-4798-914c-6359eb84c20d",
   "metadata": {},
   "outputs": [
    {
     "name": "stdout",
     "output_type": "stream",
     "text": [
      "Input: [[-1.77928654 -0.53481248]]\n",
      "Predicted output: 1.0\n"
     ]
    }
   ],
   "source": [
    "# Define the endpoint name\n",
    "endpoint_name = endpoint_name\n",
    "\n",
    "\n",
    "# Define a function to preprocess the input data\n",
    "def preprocess_input(X):\n",
    "    X_tensor = torch.tensor(X, dtype=torch.float32)\n",
    "    return X_tensor\n",
    "\n",
    "\n",
    "# Define a function to postprocess the model output\n",
    "def postprocess_output(output):\n",
    "    y_pred = (output > 0.5).float()\n",
    "    return y_pred.item()\n",
    "\n",
    "\n",
    "# Prepare the input data\n",
    "X_test = np.random.rand(1, 2) * 10 - 5  # Generate a random test sample\n",
    "\n",
    "# Preprocess the input data\n",
    "X_tensor = preprocess_input(X_test)\n",
    "\n",
    "# Convert the input data to JSON\n",
    "input_data = {\"features\": X_tensor.tolist()}\n",
    "payload = json.dumps(input_data)\n",
    "\n",
    "# Invoke the SageMaker endpoint\n",
    "response = sagemaker_runtime.invoke_endpoint(\n",
    "    EndpointName=endpoint_name, ContentType=\"application/json\", Body=payload\n",
    ")\n",
    "\n",
    "# Postprocess the model output\n",
    "result = json.loads(response[\"Body\"].read().decode())\n",
    "output = postprocess_output(torch.tensor(result[\"output\"]))\n",
    "\n",
    "print(f\"Input: {X_test}\")\n",
    "print(f\"Predicted output: {output}\")"
   ]
  },
  {
   "cell_type": "code",
   "execution_count": 17,
   "id": "6c5f2507-cb1d-4956-8325-162d7f1309ba",
   "metadata": {},
   "outputs": [
    {
     "name": "stdout",
     "output_type": "stream",
     "text": [
      "Endpoint 'pytorch-inference-2025-02-17-14-45-30-906' still exists. Deleting.....\n"
     ]
    },
    {
     "data": {
      "text/html": [
       "<pre style=\"white-space:pre;overflow-x:auto;line-height:normal;font-family:Menlo,'DejaVu Sans Mono',consolas,'Courier New',monospace\"><span style=\"color: #7fbfbf; text-decoration-color: #7fbfbf\">[02/17/25 14:51:33] </span><span style=\"color: #0069ff; text-decoration-color: #0069ff; font-weight: bold\">INFO    </span> Deleting endpoint with name: pytorch-inference-<span style=\"color: #008080; text-decoration-color: #008080; font-weight: bold\">2025</span>-02-17-14-45-30-906 <a href=\"file:///opt/conda/lib/python3.11/site-packages/sagemaker/session.py\" target=\"_blank\"><span style=\"color: #7f7f7f; text-decoration-color: #7f7f7f\">session.py</span></a><span style=\"color: #7f7f7f; text-decoration-color: #7f7f7f\">:</span><a href=\"file:///opt/conda/lib/python3.11/site-packages/sagemaker/session.py#4855\" target=\"_blank\"><span style=\"color: #7f7f7f; text-decoration-color: #7f7f7f\">4855</span></a>\n",
       "</pre>\n"
      ],
      "text/plain": [
       "\u001b[2;36m[02/17/25 14:51:33]\u001b[0m\u001b[2;36m \u001b[0m\u001b[1;38;2;0;105;255mINFO    \u001b[0m Deleting endpoint with name: pytorch-inference-\u001b[1;36m2025\u001b[0m-02-17-14-45-30-906 \u001b]8;id=800371;file:///opt/conda/lib/python3.11/site-packages/sagemaker/session.py\u001b\\\u001b[2msession.py\u001b[0m\u001b]8;;\u001b\\\u001b[2m:\u001b[0m\u001b]8;id=118425;file:///opt/conda/lib/python3.11/site-packages/sagemaker/session.py#4855\u001b\\\u001b[2m4855\u001b[0m\u001b]8;;\u001b\\\n"
      ]
     },
     "metadata": {},
     "output_type": "display_data"
    }
   ],
   "source": [
    "# delete the endpoint\n",
    "\n",
    "\n",
    "def del_endpoint(ep):\n",
    "    try:\n",
    "        sess.describe_endpoint(ep)\n",
    "        print(f\"Endpoint '{ep}' still exists. Deleting.....\")\n",
    "        sess.delete_endpoint(ep)\n",
    "    except sagemaker.exceptions.ClientError as e:\n",
    "        if e.response[\"Error\"][\"Code\"] == \"ValidationException\":\n",
    "            print(f\"Endpoint '{ep}' has been deleted.\")\n",
    "        else:\n",
    "            raise e\n",
    "\n",
    "\n",
    "del_endpoint(endpoint_name)"
   ]
  },
  {
   "cell_type": "markdown",
   "id": "91a5a4b8-b630-4dd1-8c12-dad632009510",
   "metadata": {},
   "source": [
    "# 8. Let's import the custom model into the SageMaker Jumpstart private model hub"
   ]
  },
  {
   "cell_type": "code",
   "execution_count": 18,
   "id": "00c4c421-f597-4623-afcd-ef33b78401a3",
   "metadata": {},
   "outputs": [],
   "source": [
    "from sagemaker import Session"
   ]
  },
  {
   "cell_type": "code",
   "execution_count": 19,
   "id": "67bd8ae3-deab-48eb-af38-3fc5940a1a88",
   "metadata": {},
   "outputs": [
    {
     "data": {
      "text/plain": [
       "'763104351884.dkr.ecr.us-east-1.amazonaws.com/pytorch-inference:2.3.0-cpu-py311'"
      ]
     },
     "execution_count": 19,
     "metadata": {},
     "output_type": "execute_result"
    }
   ],
   "source": [
    "# lets grab some info that we will need from above\n",
    "\n",
    "model_data = f\"s3://{default_bucket}/{key}\"\n",
    "\n",
    "\n",
    "from sagemaker import image_uris\n",
    "\n",
    "image_uri = image_uris.retrieve(\n",
    "    framework=\"pytorch\",\n",
    "    region=\"us-east-1\",\n",
    "    version=\"2.3.0\",\n",
    "    py_version=\"py311\",\n",
    "    image_scope=\"inference\",\n",
    "    instance_type=\"ml.c5.xlarge\",\n",
    ")\n",
    "image_uri"
   ]
  },
  {
   "cell_type": "code",
   "execution_count": 20,
   "id": "fd0d7a00-9fc5-4865-83e8-1ac3a8a3957e",
   "metadata": {},
   "outputs": [
    {
     "name": "stdout",
     "output_type": "stream",
     "text": [
      "sagemaker-us-east-1-891376962744\n"
     ]
    }
   ],
   "source": [
    "from sagemaker.jumpstart.hub.hub import Hub\n",
    "\n",
    "default_bucket = sess.default_bucket()\n",
    "print(default_bucket)"
   ]
  },
  {
   "cell_type": "code",
   "execution_count": 21,
   "id": "17746541-73a8-4803-b5a9-c28f6db787ba",
   "metadata": {},
   "outputs": [
    {
     "data": {
      "text/plain": [
       "'arn:aws:iam::891376962744:role/service-role/SageMaker-ExecutionRole-20240626T145306'"
      ]
     },
     "execution_count": 21,
     "metadata": {},
     "output_type": "execute_result"
    }
   ],
   "source": [
    "# define the private mode hub details to create one.\n",
    "\n",
    "HUB_NAME = \"Custom-Model-HubZ\"\n",
    "HUB_DISPLAY_NAME = \"Custom-Model-HubZ\"\n",
    "\n",
    "REGION = \"us-east-1\"\n",
    "\n",
    "\n",
    "sm_client = boto3.client(\"sagemaker\")\n",
    "session = Session(sagemaker_client=sm_client)\n",
    "session.get_caller_identity_arn()"
   ]
  },
  {
   "cell_type": "code",
   "execution_count": 22,
   "id": "76fe7163-9f08-4158-8d9a-4990eb4636bd",
   "metadata": {},
   "outputs": [
    {
     "name": "stdout",
     "output_type": "stream",
     "text": [
      "A hub with the name Custom-Model-HubZ already exists in your account.\n"
     ]
    }
   ],
   "source": [
    "hub = Hub(hub_name=HUB_NAME, sagemaker_session=session, bucket_name=default_bucket)\n",
    "\n",
    "try:\n",
    "    hub.create(\n",
    "        description=\"This is a Curated Hub. Replace this with a description which explains the purpose of this Hub.\",\n",
    "        display_name=HUB_DISPLAY_NAME,\n",
    "    )\n",
    "    print(f\"Successfully created Hub with name {HUB_NAME} in {REGION}\")\n",
    "except Exception as e:\n",
    "    if \"ResourceInUse\" in str(e):\n",
    "        print(f\"A hub with the name {HUB_NAME} already exists in your account.\")\n",
    "    else:\n",
    "        raise e"
   ]
  },
  {
   "cell_type": "code",
   "execution_count": 23,
   "id": "b2a075ab-1f5b-4634-ae24-577d706c7089",
   "metadata": {},
   "outputs": [
    {
     "name": "stdout",
     "output_type": "stream",
     "text": [
      "{\"Url\": \"https://anyuniversity.edu\", \"MinSdkVersion\": \"2.189.0\", \"TrainingSupported\": false, \"IncrementalTrainingSupported\": false, \"HostingArtifactUri\": \"s3://sagemaker-us-east-1-891376962744/demo-model/model.tar.gz\", \"HostingScriptUri\": \"s3://sagemaker-us-east-1-891376962744/demo-model/model.tar.gz\", \"HostingUseScriptUri\": false, \"InferenceDependencies\": [], \"InferenceEnvironmentVariables\": [{\"Name\": \"SAGEMAKER_PROGRAM\", \"Type\": \"text\", \"Default\": \"inference.py\", \"Scope\": \"container\", \"RequiredForModelClass\": true}, {\"Name\": \"SAGEMAKER_SUBMIT_DIRECTORY\", \"Type\": \"text\", \"Default\": \"s3://sagemaker-us-east-1-891376962744/demo-model/model.tar.gz\", \"Scope\": \"container\", \"RequiredForModelClass\": false}, {\"Name\": \"TS_MAX_RESPONSE_SIZE\", \"Type\": \"text\", \"Default\": \"100000000\", \"Scope\": \"container\", \"RequiredForModelClass\": true}, {\"Name\": \"TS_MAX_REQUEST_SIZE\", \"Type\": \"text\", \"Default\": \"100000000\", \"Scope\": \"container\", \"RequiredForModelClass\": true}], \"DefaultInferenceInstanceType\": \"ml.c5.4xlarge\", \"SupportedInferenceInstanceTypes\": [\"ml.c5.4xlarge\", \"ml.c5.9xlarge\", \"ml.g4dn.2xlarge\"], \"InferenceEnableNetworkIsolation\": false, \"ValidationSupported\": false, \"ResourceNameBase\": \"Custom-Model-Hub1\", \"HostingInstanceTypeVariants\": {\"Variants\": {\"c5\": {\"Properties\": {\"ImageUri\": \"763104351884.dkr.ecr.us-east-1.amazonaws.com/pytorch-inference:2.3.0-cpu-py311\"}}, \"ml.c5.4xlarge\": {\"Properties\": {\"ResourceRequirements\": {\"MinMemoryMb\": 16384}}}, \"ml.c5.9xlarge\": {\"Properties\": {\"ResourceRequirements\": {\"MinMemoryMb\": 32768}}}}}, \"HostingArtifactS3DataType\": \"S3Prefix\", \"HostingArtifactCompressionType\": \"Gzip\", \"HostingResourceRequirements\": {\"MinMemoryMb\": 16384}, \"DynamicContainerDeploymentSupported\": true, \"Dependencies\": [], \"HostingEcrUri\": \"763104351884.dkr.ecr.us-east-1.amazonaws.com/pytorch-inference:2.3.0-cpu-py311\", \"Task\": \"blog model\", \"Framework\": \"custom\", \"SageMakerSdkPredictorSpecifications\": {\"SupportedContentTypes\": [\"application/x-image\"], \"SupportedAcceptTypes\": [\"application/json\", \"application/json;verbose\", \"application/json;n_predictions=2\"], \"DefaultContentType\": \"application/x-image\", \"DefaultAcceptType\": \"application/json\"}}\n"
     ]
    }
   ],
   "source": [
    "# below is a metadata dict for the models in Jumpstart. this information is used while training or hosting the models by Jumpstart.\n",
    "# you might need to tweek based on the model that you are importing\n",
    "\n",
    "hub_model_dict = {\n",
    "    \"Url\": \"https://anyuniversity.edu\",\n",
    "    \"MinSdkVersion\": \"2.189.0\",\n",
    "    \"TrainingSupported\": False,\n",
    "    \"IncrementalTrainingSupported\": False,\n",
    "    \"HostingArtifactUri\": model_data,\n",
    "    \"HostingScriptUri\": model_data,\n",
    "    \"HostingUseScriptUri\": False,\n",
    "    \"InferenceDependencies\": [],\n",
    "    \"InferenceEnvironmentVariables\": [\n",
    "        {\n",
    "            \"Name\": \"SAGEMAKER_PROGRAM\",\n",
    "            \"Type\": \"text\",\n",
    "            \"Default\": \"inference.py\",\n",
    "            \"Scope\": \"container\",\n",
    "            \"RequiredForModelClass\": True,\n",
    "        },\n",
    "        {\n",
    "            \"Name\": \"SAGEMAKER_SUBMIT_DIRECTORY\",\n",
    "            \"Type\": \"text\",\n",
    "            \"Default\": model_data,\n",
    "            \"Scope\": \"container\",\n",
    "            \"RequiredForModelClass\": False,\n",
    "        },\n",
    "        {\n",
    "            \"Name\": \"TS_MAX_RESPONSE_SIZE\",\n",
    "            \"Type\": \"text\",\n",
    "            \"Default\": \"100000000\",\n",
    "            \"Scope\": \"container\",\n",
    "            \"RequiredForModelClass\": True,\n",
    "        },\n",
    "        {\n",
    "            \"Name\": \"TS_MAX_REQUEST_SIZE\",\n",
    "            \"Type\": \"text\",\n",
    "            \"Default\": \"100000000\",\n",
    "            \"Scope\": \"container\",\n",
    "            \"RequiredForModelClass\": True,\n",
    "        },\n",
    "    ],\n",
    "    \"DefaultInferenceInstanceType\": \"ml.c5.4xlarge\",\n",
    "    \"SupportedInferenceInstanceTypes\": [\"ml.c5.4xlarge\", \"ml.c5.9xlarge\", \"ml.g4dn.2xlarge\"],\n",
    "    \"InferenceEnableNetworkIsolation\": False,\n",
    "    \"ValidationSupported\": False,\n",
    "    \"ResourceNameBase\": \"Custom-Model-Hub1\",\n",
    "    \"HostingInstanceTypeVariants\": {\n",
    "        \"Variants\": {\n",
    "            \"c5\": {\"Properties\": {\"ImageUri\": image_uri}},\n",
    "            \"ml.c5.4xlarge\": {\"Properties\": {\"ResourceRequirements\": {\"MinMemoryMb\": 16384}}},\n",
    "            \"ml.c5.9xlarge\": {\"Properties\": {\"ResourceRequirements\": {\"MinMemoryMb\": 32768}}},\n",
    "        }\n",
    "    },\n",
    "    \"HostingArtifactS3DataType\": \"S3Prefix\",\n",
    "    \"HostingArtifactCompressionType\": \"Gzip\",\n",
    "    \"HostingResourceRequirements\": {\"MinMemoryMb\": 16384},\n",
    "    \"DynamicContainerDeploymentSupported\": True,\n",
    "    \"Dependencies\": [],\n",
    "    \"HostingEcrUri\": image_uri,\n",
    "    \"Task\": \"blog model\",\n",
    "    \"Framework\": \"custom\",\n",
    "    \"SageMakerSdkPredictorSpecifications\": {\n",
    "        \"SupportedContentTypes\": [\"application/x-image\"],\n",
    "        \"SupportedAcceptTypes\": [\n",
    "            \"application/json\",\n",
    "            \"application/json;verbose\",\n",
    "            \"application/json;n_predictions=2\",\n",
    "        ],\n",
    "        \"DefaultContentType\": \"application/x-image\",\n",
    "        \"DefaultAcceptType\": \"application/json\",\n",
    "    },\n",
    "}\n",
    "\n",
    "# Convert the dictionary to a JSON string\n",
    "hub_doc = json.dumps(hub_model_dict)\n",
    "\n",
    "# If you need to parse it back into a dictionary (which you shouldn't need to do in this case)\n",
    "# hub_model_dict = json.loads(hub_doc)\n",
    "\n",
    "print(hub_doc)"
   ]
  },
  {
   "cell_type": "code",
   "execution_count": 24,
   "id": "fc2e8e1d-80fd-47d2-971d-36cae2b31c9e",
   "metadata": {},
   "outputs": [
    {
     "data": {
      "text/plain": [
       "{'HubArn': 'arn:aws:sagemaker:us-east-1:891376962744:hub/Custom-Model-HubZ',\n",
       " 'HubContentArn': 'arn:aws:sagemaker:us-east-1:891376962744:hub-content/Custom-Model-HubZ/Model/blog-model-test0213/0.0.5',\n",
       " 'ResponseMetadata': {'RequestId': '7e556141-cdfe-4450-887f-00a6622fe915',\n",
       "  'HTTPStatusCode': 200,\n",
       "  'HTTPHeaders': {'x-amzn-requestid': '7e556141-cdfe-4450-887f-00a6622fe915',\n",
       "   'content-type': 'application/x-amz-json-1.1',\n",
       "   'content-length': '196',\n",
       "   'date': 'Mon, 17 Feb 2025 14:51:33 GMT'},\n",
       "  'RetryAttempts': 0}}"
      ]
     },
     "execution_count": 24,
     "metadata": {},
     "output_type": "execute_result"
    }
   ],
   "source": [
    "# importing to the hub\n",
    "\n",
    "sm_client.import_hub_content(\n",
    "    HubContentName=\"blog-model-test0213\",\n",
    "    HubContentType=\"Model\",\n",
    "    DocumentSchemaVersion=\"2.2.0\",\n",
    "    HubName=HUB_NAME,\n",
    "    HubContentDocument=hub_doc,\n",
    ")"
   ]
  },
  {
   "cell_type": "code",
   "execution_count": 25,
   "id": "82113bbc-733e-4355-810f-35edcccf4c8d",
   "metadata": {},
   "outputs": [
    {
     "data": {
      "text/plain": [
       "{'hub_content_summaries': [{'HubContentName': 'blog-model-test0213',\n",
       "   'HubContentArn': 'arn:aws:sagemaker:us-east-1:891376962744:hub-content/Custom-Model-HubZ/Model/blog-model-test0213/0.0.5',\n",
       "   'HubContentVersion': '0.0.5',\n",
       "   'HubContentType': 'Model',\n",
       "   'DocumentSchemaVersion': '2.2.0',\n",
       "   'HubContentStatus': 'Available',\n",
       "   'CreationTime': datetime.datetime(2025, 2, 17, 14, 51, 33, 773000, tzinfo=tzlocal())}],\n",
       " 'next_token': None}"
      ]
     },
     "execution_count": 25,
     "metadata": {},
     "output_type": "execute_result"
    }
   ],
   "source": [
    "# list the models from the private hub\n",
    "hub.list_models()"
   ]
  },
  {
   "cell_type": "code",
   "execution_count": 26,
   "id": "a9b75377-43ec-4d8e-89b7-926ae2a603bb",
   "metadata": {},
   "outputs": [
    {
     "name": "stdout",
     "output_type": "stream",
     "text": [
      "arn:aws:sagemaker:us-east-1:891376962744:hub/Custom-Model-HubZ\n",
      "blog-model-test0213\n",
      "0.0.5\n"
     ]
    }
   ],
   "source": [
    "# retrieve the HUB's arn\n",
    "HUB_ARN = hub.describe()[\"HubArn\"]\n",
    "print(HUB_ARN)\n",
    "\n",
    "# get the model id\n",
    "model_id = hub.list_models()[\"hub_content_summaries\"][0][\"HubContentName\"]\n",
    "print(model_id)\n",
    "\n",
    "# get the model version\n",
    "version = hub.list_models()[\"hub_content_summaries\"][0][\"HubContentVersion\"]\n",
    "print(version)"
   ]
  },
  {
   "cell_type": "markdown",
   "id": "7acac730-686f-4604-a333-33da04d477bd",
   "metadata": {},
   "source": [
    "# 9. Deploy the model from private model hub as a real time inference endpoint"
   ]
  },
  {
   "cell_type": "code",
   "execution_count": 27,
   "id": "22612990-32ec-464f-8fb2-669d2bd24322",
   "metadata": {},
   "outputs": [
    {
     "data": {
      "text/html": [
       "<pre style=\"white-space:pre;overflow-x:auto;line-height:normal;font-family:Menlo,'DejaVu Sans Mono',consolas,'Courier New',monospace\"><span style=\"color: #7fbfbf; text-decoration-color: #7fbfbf\">[02/17/25 14:51:34] </span><span style=\"color: #0069ff; text-decoration-color: #0069ff; font-weight: bold\">INFO    </span> Received exeption while calling APIs for ContentType ModelReference,  <a href=\"file:///opt/conda/lib/python3.11/site-packages/sagemaker/jumpstart/accessors.py\" target=\"_blank\"><span style=\"color: #7f7f7f; text-decoration-color: #7f7f7f\">accessors.py</span></a><span style=\"color: #7f7f7f; text-decoration-color: #7f7f7f\">:</span><a href=\"file:///opt/conda/lib/python3.11/site-packages/sagemaker/jumpstart/accessors.py#303\" target=\"_blank\"><span style=\"color: #7f7f7f; text-decoration-color: #7f7f7f\">303</span></a>\n",
       "<span style=\"color: #7fbfbf; text-decoration-color: #7fbfbf\">                    </span>         retrying with ContentType Model: Failed calling                       <span style=\"color: #7f7f7f; text-decoration-color: #7f7f7f\">                </span>\n",
       "<span style=\"color: #7fbfbf; text-decoration-color: #7fbfbf\">                    </span>         list_hub_content_versions: An error occurred <span style=\"font-weight: bold\">(</span>ResourceNotFound<span style=\"font-weight: bold\">)</span> when  <span style=\"color: #7f7f7f; text-decoration-color: #7f7f7f\">                </span>\n",
       "<span style=\"color: #7fbfbf; text-decoration-color: #7fbfbf\">                    </span>         calling the ListHubContentVersions operation: Hub content with name   <span style=\"color: #7f7f7f; text-decoration-color: #7f7f7f\">                </span>\n",
       "<span style=\"color: #7fbfbf; text-decoration-color: #7fbfbf\">                    </span>         blog-model-test0213 does not exist.                                   <span style=\"color: #7f7f7f; text-decoration-color: #7f7f7f\">                </span>\n",
       "</pre>\n"
      ],
      "text/plain": [
       "\u001b[2;36m[02/17/25 14:51:34]\u001b[0m\u001b[2;36m \u001b[0m\u001b[1;38;2;0;105;255mINFO    \u001b[0m Received exeption while calling APIs for ContentType ModelReference,  \u001b]8;id=878973;file:///opt/conda/lib/python3.11/site-packages/sagemaker/jumpstart/accessors.py\u001b\\\u001b[2maccessors.py\u001b[0m\u001b]8;;\u001b\\\u001b[2m:\u001b[0m\u001b]8;id=559933;file:///opt/conda/lib/python3.11/site-packages/sagemaker/jumpstart/accessors.py#303\u001b\\\u001b[2m303\u001b[0m\u001b]8;;\u001b\\\n",
       "\u001b[2;36m                    \u001b[0m         retrying with ContentType Model: Failed calling                       \u001b[2m                \u001b[0m\n",
       "\u001b[2;36m                    \u001b[0m         list_hub_content_versions: An error occurred \u001b[1m(\u001b[0mResourceNotFound\u001b[1m)\u001b[0m when  \u001b[2m                \u001b[0m\n",
       "\u001b[2;36m                    \u001b[0m         calling the ListHubContentVersions operation: Hub content with name   \u001b[2m                \u001b[0m\n",
       "\u001b[2;36m                    \u001b[0m         blog-model-test0213 does not exist.                                   \u001b[2m                \u001b[0m\n"
      ]
     },
     "metadata": {},
     "output_type": "display_data"
    },
    {
     "data": {
      "text/html": [
       "<pre style=\"white-space:pre;overflow-x:auto;line-height:normal;font-family:Menlo,'DejaVu Sans Mono',consolas,'Courier New',monospace\"><span style=\"color: #7fbfbf; text-decoration-color: #7fbfbf\">                    </span><span style=\"color: #0069ff; text-decoration-color: #0069ff; font-weight: bold\">INFO    </span> Received exeption while calling APIs for ContentType ModelReference,  <a href=\"file:///opt/conda/lib/python3.11/site-packages/sagemaker/jumpstart/accessors.py\" target=\"_blank\"><span style=\"color: #7f7f7f; text-decoration-color: #7f7f7f\">accessors.py</span></a><span style=\"color: #7f7f7f; text-decoration-color: #7f7f7f\">:</span><a href=\"file:///opt/conda/lib/python3.11/site-packages/sagemaker/jumpstart/accessors.py#303\" target=\"_blank\"><span style=\"color: #7f7f7f; text-decoration-color: #7f7f7f\">303</span></a>\n",
       "<span style=\"color: #7fbfbf; text-decoration-color: #7fbfbf\">                    </span>         retrying with ContentType Model: Failed calling                       <span style=\"color: #7f7f7f; text-decoration-color: #7f7f7f\">                </span>\n",
       "<span style=\"color: #7fbfbf; text-decoration-color: #7fbfbf\">                    </span>         list_hub_content_versions: An error occurred <span style=\"font-weight: bold\">(</span>ResourceNotFound<span style=\"font-weight: bold\">)</span> when  <span style=\"color: #7f7f7f; text-decoration-color: #7f7f7f\">                </span>\n",
       "<span style=\"color: #7fbfbf; text-decoration-color: #7fbfbf\">                    </span>         calling the ListHubContentVersions operation: Hub content with name   <span style=\"color: #7f7f7f; text-decoration-color: #7f7f7f\">                </span>\n",
       "<span style=\"color: #7fbfbf; text-decoration-color: #7fbfbf\">                    </span>         blog-model-test0213 does not exist.                                   <span style=\"color: #7f7f7f; text-decoration-color: #7f7f7f\">                </span>\n",
       "</pre>\n"
      ],
      "text/plain": [
       "\u001b[2;36m                   \u001b[0m\u001b[2;36m \u001b[0m\u001b[1;38;2;0;105;255mINFO    \u001b[0m Received exeption while calling APIs for ContentType ModelReference,  \u001b]8;id=223690;file:///opt/conda/lib/python3.11/site-packages/sagemaker/jumpstart/accessors.py\u001b\\\u001b[2maccessors.py\u001b[0m\u001b]8;;\u001b\\\u001b[2m:\u001b[0m\u001b]8;id=909365;file:///opt/conda/lib/python3.11/site-packages/sagemaker/jumpstart/accessors.py#303\u001b\\\u001b[2m303\u001b[0m\u001b]8;;\u001b\\\n",
       "\u001b[2;36m                    \u001b[0m         retrying with ContentType Model: Failed calling                       \u001b[2m                \u001b[0m\n",
       "\u001b[2;36m                    \u001b[0m         list_hub_content_versions: An error occurred \u001b[1m(\u001b[0mResourceNotFound\u001b[1m)\u001b[0m when  \u001b[2m                \u001b[0m\n",
       "\u001b[2;36m                    \u001b[0m         calling the ListHubContentVersions operation: Hub content with name   \u001b[2m                \u001b[0m\n",
       "\u001b[2;36m                    \u001b[0m         blog-model-test0213 does not exist.                                   \u001b[2m                \u001b[0m\n"
      ]
     },
     "metadata": {},
     "output_type": "display_data"
    },
    {
     "data": {
      "text/html": [
       "<pre style=\"white-space:pre;overflow-x:auto;line-height:normal;font-family:Menlo,'DejaVu Sans Mono',consolas,'Courier New',monospace\"><span style=\"color: #7fbfbf; text-decoration-color: #7fbfbf\">                    </span><span style=\"color: #0069ff; text-decoration-color: #0069ff; font-weight: bold\">INFO    </span> Received exeption while calling APIs for ContentType ModelReference,  <a href=\"file:///opt/conda/lib/python3.11/site-packages/sagemaker/jumpstart/accessors.py\" target=\"_blank\"><span style=\"color: #7f7f7f; text-decoration-color: #7f7f7f\">accessors.py</span></a><span style=\"color: #7f7f7f; text-decoration-color: #7f7f7f\">:</span><a href=\"file:///opt/conda/lib/python3.11/site-packages/sagemaker/jumpstart/accessors.py#303\" target=\"_blank\"><span style=\"color: #7f7f7f; text-decoration-color: #7f7f7f\">303</span></a>\n",
       "<span style=\"color: #7fbfbf; text-decoration-color: #7fbfbf\">                    </span>         retrying with ContentType Model: Failed calling                       <span style=\"color: #7f7f7f; text-decoration-color: #7f7f7f\">                </span>\n",
       "<span style=\"color: #7fbfbf; text-decoration-color: #7fbfbf\">                    </span>         list_hub_content_versions: An error occurred <span style=\"font-weight: bold\">(</span>ResourceNotFound<span style=\"font-weight: bold\">)</span> when  <span style=\"color: #7f7f7f; text-decoration-color: #7f7f7f\">                </span>\n",
       "<span style=\"color: #7fbfbf; text-decoration-color: #7fbfbf\">                    </span>         calling the ListHubContentVersions operation: Hub content with name   <span style=\"color: #7f7f7f; text-decoration-color: #7f7f7f\">                </span>\n",
       "<span style=\"color: #7fbfbf; text-decoration-color: #7fbfbf\">                    </span>         blog-model-test0213 does not exist.                                   <span style=\"color: #7f7f7f; text-decoration-color: #7f7f7f\">                </span>\n",
       "</pre>\n"
      ],
      "text/plain": [
       "\u001b[2;36m                   \u001b[0m\u001b[2;36m \u001b[0m\u001b[1;38;2;0;105;255mINFO    \u001b[0m Received exeption while calling APIs for ContentType ModelReference,  \u001b]8;id=105393;file:///opt/conda/lib/python3.11/site-packages/sagemaker/jumpstart/accessors.py\u001b\\\u001b[2maccessors.py\u001b[0m\u001b]8;;\u001b\\\u001b[2m:\u001b[0m\u001b]8;id=796986;file:///opt/conda/lib/python3.11/site-packages/sagemaker/jumpstart/accessors.py#303\u001b\\\u001b[2m303\u001b[0m\u001b]8;;\u001b\\\n",
       "\u001b[2;36m                    \u001b[0m         retrying with ContentType Model: Failed calling                       \u001b[2m                \u001b[0m\n",
       "\u001b[2;36m                    \u001b[0m         list_hub_content_versions: An error occurred \u001b[1m(\u001b[0mResourceNotFound\u001b[1m)\u001b[0m when  \u001b[2m                \u001b[0m\n",
       "\u001b[2;36m                    \u001b[0m         calling the ListHubContentVersions operation: Hub content with name   \u001b[2m                \u001b[0m\n",
       "\u001b[2;36m                    \u001b[0m         blog-model-test0213 does not exist.                                   \u001b[2m                \u001b[0m\n"
      ]
     },
     "metadata": {},
     "output_type": "display_data"
    },
    {
     "data": {
      "text/html": [
       "<pre style=\"white-space:pre;overflow-x:auto;line-height:normal;font-family:Menlo,'DejaVu Sans Mono',consolas,'Courier New',monospace\"><span style=\"color: #7fbfbf; text-decoration-color: #7fbfbf\">[02/17/25 14:51:35] </span><span style=\"color: #0069ff; text-decoration-color: #0069ff; font-weight: bold\">INFO    </span> Received exeption while calling APIs for ContentType ModelReference,  <a href=\"file:///opt/conda/lib/python3.11/site-packages/sagemaker/jumpstart/accessors.py\" target=\"_blank\"><span style=\"color: #7f7f7f; text-decoration-color: #7f7f7f\">accessors.py</span></a><span style=\"color: #7f7f7f; text-decoration-color: #7f7f7f\">:</span><a href=\"file:///opt/conda/lib/python3.11/site-packages/sagemaker/jumpstart/accessors.py#303\" target=\"_blank\"><span style=\"color: #7f7f7f; text-decoration-color: #7f7f7f\">303</span></a>\n",
       "<span style=\"color: #7fbfbf; text-decoration-color: #7fbfbf\">                    </span>         retrying with ContentType Model: Failed calling                       <span style=\"color: #7f7f7f; text-decoration-color: #7f7f7f\">                </span>\n",
       "<span style=\"color: #7fbfbf; text-decoration-color: #7fbfbf\">                    </span>         list_hub_content_versions: An error occurred <span style=\"font-weight: bold\">(</span>ResourceNotFound<span style=\"font-weight: bold\">)</span> when  <span style=\"color: #7f7f7f; text-decoration-color: #7f7f7f\">                </span>\n",
       "<span style=\"color: #7fbfbf; text-decoration-color: #7fbfbf\">                    </span>         calling the ListHubContentVersions operation: Hub content with name   <span style=\"color: #7f7f7f; text-decoration-color: #7f7f7f\">                </span>\n",
       "<span style=\"color: #7fbfbf; text-decoration-color: #7fbfbf\">                    </span>         blog-model-test0213 does not exist.                                   <span style=\"color: #7f7f7f; text-decoration-color: #7f7f7f\">                </span>\n",
       "</pre>\n"
      ],
      "text/plain": [
       "\u001b[2;36m[02/17/25 14:51:35]\u001b[0m\u001b[2;36m \u001b[0m\u001b[1;38;2;0;105;255mINFO    \u001b[0m Received exeption while calling APIs for ContentType ModelReference,  \u001b]8;id=816882;file:///opt/conda/lib/python3.11/site-packages/sagemaker/jumpstart/accessors.py\u001b\\\u001b[2maccessors.py\u001b[0m\u001b]8;;\u001b\\\u001b[2m:\u001b[0m\u001b]8;id=567035;file:///opt/conda/lib/python3.11/site-packages/sagemaker/jumpstart/accessors.py#303\u001b\\\u001b[2m303\u001b[0m\u001b]8;;\u001b\\\n",
       "\u001b[2;36m                    \u001b[0m         retrying with ContentType Model: Failed calling                       \u001b[2m                \u001b[0m\n",
       "\u001b[2;36m                    \u001b[0m         list_hub_content_versions: An error occurred \u001b[1m(\u001b[0mResourceNotFound\u001b[1m)\u001b[0m when  \u001b[2m                \u001b[0m\n",
       "\u001b[2;36m                    \u001b[0m         calling the ListHubContentVersions operation: Hub content with name   \u001b[2m                \u001b[0m\n",
       "\u001b[2;36m                    \u001b[0m         blog-model-test0213 does not exist.                                   \u001b[2m                \u001b[0m\n"
      ]
     },
     "metadata": {},
     "output_type": "display_data"
    },
    {
     "data": {
      "text/html": [
       "<pre style=\"white-space:pre;overflow-x:auto;line-height:normal;font-family:Menlo,'DejaVu Sans Mono',consolas,'Courier New',monospace\"><span style=\"color: #7fbfbf; text-decoration-color: #7fbfbf\">                    </span><span style=\"color: #0069ff; text-decoration-color: #0069ff; font-weight: bold\">INFO    </span> Received exeption while calling APIs for ContentType ModelReference,  <a href=\"file:///opt/conda/lib/python3.11/site-packages/sagemaker/jumpstart/accessors.py\" target=\"_blank\"><span style=\"color: #7f7f7f; text-decoration-color: #7f7f7f\">accessors.py</span></a><span style=\"color: #7f7f7f; text-decoration-color: #7f7f7f\">:</span><a href=\"file:///opt/conda/lib/python3.11/site-packages/sagemaker/jumpstart/accessors.py#303\" target=\"_blank\"><span style=\"color: #7f7f7f; text-decoration-color: #7f7f7f\">303</span></a>\n",
       "<span style=\"color: #7fbfbf; text-decoration-color: #7fbfbf\">                    </span>         retrying with ContentType Model: Failed calling                       <span style=\"color: #7f7f7f; text-decoration-color: #7f7f7f\">                </span>\n",
       "<span style=\"color: #7fbfbf; text-decoration-color: #7fbfbf\">                    </span>         list_hub_content_versions: An error occurred <span style=\"font-weight: bold\">(</span>ResourceNotFound<span style=\"font-weight: bold\">)</span> when  <span style=\"color: #7f7f7f; text-decoration-color: #7f7f7f\">                </span>\n",
       "<span style=\"color: #7fbfbf; text-decoration-color: #7fbfbf\">                    </span>         calling the ListHubContentVersions operation: Hub content with name   <span style=\"color: #7f7f7f; text-decoration-color: #7f7f7f\">                </span>\n",
       "<span style=\"color: #7fbfbf; text-decoration-color: #7fbfbf\">                    </span>         blog-model-test0213 does not exist.                                   <span style=\"color: #7f7f7f; text-decoration-color: #7f7f7f\">                </span>\n",
       "</pre>\n"
      ],
      "text/plain": [
       "\u001b[2;36m                   \u001b[0m\u001b[2;36m \u001b[0m\u001b[1;38;2;0;105;255mINFO    \u001b[0m Received exeption while calling APIs for ContentType ModelReference,  \u001b]8;id=527197;file:///opt/conda/lib/python3.11/site-packages/sagemaker/jumpstart/accessors.py\u001b\\\u001b[2maccessors.py\u001b[0m\u001b]8;;\u001b\\\u001b[2m:\u001b[0m\u001b]8;id=107439;file:///opt/conda/lib/python3.11/site-packages/sagemaker/jumpstart/accessors.py#303\u001b\\\u001b[2m303\u001b[0m\u001b]8;;\u001b\\\n",
       "\u001b[2;36m                    \u001b[0m         retrying with ContentType Model: Failed calling                       \u001b[2m                \u001b[0m\n",
       "\u001b[2;36m                    \u001b[0m         list_hub_content_versions: An error occurred \u001b[1m(\u001b[0mResourceNotFound\u001b[1m)\u001b[0m when  \u001b[2m                \u001b[0m\n",
       "\u001b[2;36m                    \u001b[0m         calling the ListHubContentVersions operation: Hub content with name   \u001b[2m                \u001b[0m\n",
       "\u001b[2;36m                    \u001b[0m         blog-model-test0213 does not exist.                                   \u001b[2m                \u001b[0m\n"
      ]
     },
     "metadata": {},
     "output_type": "display_data"
    },
    {
     "data": {
      "text/html": [
       "<pre style=\"white-space:pre;overflow-x:auto;line-height:normal;font-family:Menlo,'DejaVu Sans Mono',consolas,'Courier New',monospace\"><span style=\"color: #7fbfbf; text-decoration-color: #7fbfbf\">                    </span><span style=\"color: #0069ff; text-decoration-color: #0069ff; font-weight: bold\">INFO    </span> Received exeption while calling APIs for ContentType ModelReference,  <a href=\"file:///opt/conda/lib/python3.11/site-packages/sagemaker/jumpstart/accessors.py\" target=\"_blank\"><span style=\"color: #7f7f7f; text-decoration-color: #7f7f7f\">accessors.py</span></a><span style=\"color: #7f7f7f; text-decoration-color: #7f7f7f\">:</span><a href=\"file:///opt/conda/lib/python3.11/site-packages/sagemaker/jumpstart/accessors.py#303\" target=\"_blank\"><span style=\"color: #7f7f7f; text-decoration-color: #7f7f7f\">303</span></a>\n",
       "<span style=\"color: #7fbfbf; text-decoration-color: #7fbfbf\">                    </span>         retrying with ContentType Model: Failed calling                       <span style=\"color: #7f7f7f; text-decoration-color: #7f7f7f\">                </span>\n",
       "<span style=\"color: #7fbfbf; text-decoration-color: #7fbfbf\">                    </span>         list_hub_content_versions: An error occurred <span style=\"font-weight: bold\">(</span>ResourceNotFound<span style=\"font-weight: bold\">)</span> when  <span style=\"color: #7f7f7f; text-decoration-color: #7f7f7f\">                </span>\n",
       "<span style=\"color: #7fbfbf; text-decoration-color: #7fbfbf\">                    </span>         calling the ListHubContentVersions operation: Hub content with name   <span style=\"color: #7f7f7f; text-decoration-color: #7f7f7f\">                </span>\n",
       "<span style=\"color: #7fbfbf; text-decoration-color: #7fbfbf\">                    </span>         blog-model-test0213 does not exist.                                   <span style=\"color: #7f7f7f; text-decoration-color: #7f7f7f\">                </span>\n",
       "</pre>\n"
      ],
      "text/plain": [
       "\u001b[2;36m                   \u001b[0m\u001b[2;36m \u001b[0m\u001b[1;38;2;0;105;255mINFO    \u001b[0m Received exeption while calling APIs for ContentType ModelReference,  \u001b]8;id=193636;file:///opt/conda/lib/python3.11/site-packages/sagemaker/jumpstart/accessors.py\u001b\\\u001b[2maccessors.py\u001b[0m\u001b]8;;\u001b\\\u001b[2m:\u001b[0m\u001b]8;id=640874;file:///opt/conda/lib/python3.11/site-packages/sagemaker/jumpstart/accessors.py#303\u001b\\\u001b[2m303\u001b[0m\u001b]8;;\u001b\\\n",
       "\u001b[2;36m                    \u001b[0m         retrying with ContentType Model: Failed calling                       \u001b[2m                \u001b[0m\n",
       "\u001b[2;36m                    \u001b[0m         list_hub_content_versions: An error occurred \u001b[1m(\u001b[0mResourceNotFound\u001b[1m)\u001b[0m when  \u001b[2m                \u001b[0m\n",
       "\u001b[2;36m                    \u001b[0m         calling the ListHubContentVersions operation: Hub content with name   \u001b[2m                \u001b[0m\n",
       "\u001b[2;36m                    \u001b[0m         blog-model-test0213 does not exist.                                   \u001b[2m                \u001b[0m\n"
      ]
     },
     "metadata": {},
     "output_type": "display_data"
    },
    {
     "name": "stderr",
     "output_type": "stream",
     "text": [
      "No instance type selected for inference hosting endpoint. Defaulting to ml.c5.4xlarge.\n"
     ]
    },
    {
     "data": {
      "text/html": [
       "<pre style=\"white-space:pre;overflow-x:auto;line-height:normal;font-family:Menlo,'DejaVu Sans Mono',consolas,'Courier New',monospace\"><span style=\"color: #7fbfbf; text-decoration-color: #7fbfbf\">                    </span><span style=\"color: #0069ff; text-decoration-color: #0069ff; font-weight: bold\">INFO    </span> No instance type selected for inference hosting endpoint. Defaulting to   <a href=\"file:///opt/conda/lib/python3.11/site-packages/sagemaker/jumpstart/factory/model.py\" target=\"_blank\"><span style=\"color: #7f7f7f; text-decoration-color: #7f7f7f\">model.py</span></a><span style=\"color: #7f7f7f; text-decoration-color: #7f7f7f\">:</span><a href=\"file:///opt/conda/lib/python3.11/site-packages/sagemaker/jumpstart/factory/model.py#238\" target=\"_blank\"><span style=\"color: #7f7f7f; text-decoration-color: #7f7f7f\">238</span></a>\n",
       "<span style=\"color: #7fbfbf; text-decoration-color: #7fbfbf\">                    </span>         ml.c5.4xlarge.                                                            <span style=\"color: #7f7f7f; text-decoration-color: #7f7f7f\">            </span>\n",
       "</pre>\n"
      ],
      "text/plain": [
       "\u001b[2;36m                   \u001b[0m\u001b[2;36m \u001b[0m\u001b[1;38;2;0;105;255mINFO    \u001b[0m No instance type selected for inference hosting endpoint. Defaulting to   \u001b]8;id=323417;file:///opt/conda/lib/python3.11/site-packages/sagemaker/jumpstart/factory/model.py\u001b\\\u001b[2mmodel.py\u001b[0m\u001b]8;;\u001b\\\u001b[2m:\u001b[0m\u001b]8;id=605664;file:///opt/conda/lib/python3.11/site-packages/sagemaker/jumpstart/factory/model.py#238\u001b\\\u001b[2m238\u001b[0m\u001b]8;;\u001b\\\n",
       "\u001b[2;36m                    \u001b[0m         ml.c5.4xlarge.                                                            \u001b[2m            \u001b[0m\n"
      ]
     },
     "metadata": {},
     "output_type": "display_data"
    },
    {
     "data": {
      "text/html": [
       "<pre style=\"white-space:pre;overflow-x:auto;line-height:normal;font-family:Menlo,'DejaVu Sans Mono',consolas,'Courier New',monospace\"><span style=\"color: #7fbfbf; text-decoration-color: #7fbfbf\">[02/17/25 14:51:36] </span><span style=\"color: #0069ff; text-decoration-color: #0069ff; font-weight: bold\">INFO    </span> Received exeption while calling APIs for ContentType ModelReference,  <a href=\"file:///opt/conda/lib/python3.11/site-packages/sagemaker/jumpstart/accessors.py\" target=\"_blank\"><span style=\"color: #7f7f7f; text-decoration-color: #7f7f7f\">accessors.py</span></a><span style=\"color: #7f7f7f; text-decoration-color: #7f7f7f\">:</span><a href=\"file:///opt/conda/lib/python3.11/site-packages/sagemaker/jumpstart/accessors.py#303\" target=\"_blank\"><span style=\"color: #7f7f7f; text-decoration-color: #7f7f7f\">303</span></a>\n",
       "<span style=\"color: #7fbfbf; text-decoration-color: #7fbfbf\">                    </span>         retrying with ContentType Model: Failed calling                       <span style=\"color: #7f7f7f; text-decoration-color: #7f7f7f\">                </span>\n",
       "<span style=\"color: #7fbfbf; text-decoration-color: #7fbfbf\">                    </span>         list_hub_content_versions: An error occurred <span style=\"font-weight: bold\">(</span>ResourceNotFound<span style=\"font-weight: bold\">)</span> when  <span style=\"color: #7f7f7f; text-decoration-color: #7f7f7f\">                </span>\n",
       "<span style=\"color: #7fbfbf; text-decoration-color: #7fbfbf\">                    </span>         calling the ListHubContentVersions operation: Hub content with name   <span style=\"color: #7f7f7f; text-decoration-color: #7f7f7f\">                </span>\n",
       "<span style=\"color: #7fbfbf; text-decoration-color: #7fbfbf\">                    </span>         blog-model-test0213 does not exist.                                   <span style=\"color: #7f7f7f; text-decoration-color: #7f7f7f\">                </span>\n",
       "</pre>\n"
      ],
      "text/plain": [
       "\u001b[2;36m[02/17/25 14:51:36]\u001b[0m\u001b[2;36m \u001b[0m\u001b[1;38;2;0;105;255mINFO    \u001b[0m Received exeption while calling APIs for ContentType ModelReference,  \u001b]8;id=782491;file:///opt/conda/lib/python3.11/site-packages/sagemaker/jumpstart/accessors.py\u001b\\\u001b[2maccessors.py\u001b[0m\u001b]8;;\u001b\\\u001b[2m:\u001b[0m\u001b]8;id=518388;file:///opt/conda/lib/python3.11/site-packages/sagemaker/jumpstart/accessors.py#303\u001b\\\u001b[2m303\u001b[0m\u001b]8;;\u001b\\\n",
       "\u001b[2;36m                    \u001b[0m         retrying with ContentType Model: Failed calling                       \u001b[2m                \u001b[0m\n",
       "\u001b[2;36m                    \u001b[0m         list_hub_content_versions: An error occurred \u001b[1m(\u001b[0mResourceNotFound\u001b[1m)\u001b[0m when  \u001b[2m                \u001b[0m\n",
       "\u001b[2;36m                    \u001b[0m         calling the ListHubContentVersions operation: Hub content with name   \u001b[2m                \u001b[0m\n",
       "\u001b[2;36m                    \u001b[0m         blog-model-test0213 does not exist.                                   \u001b[2m                \u001b[0m\n"
      ]
     },
     "metadata": {},
     "output_type": "display_data"
    },
    {
     "data": {
      "text/html": [
       "<pre style=\"white-space:pre;overflow-x:auto;line-height:normal;font-family:Menlo,'DejaVu Sans Mono',consolas,'Courier New',monospace\"><span style=\"color: #7fbfbf; text-decoration-color: #7fbfbf\">                    </span><span style=\"color: #0069ff; text-decoration-color: #0069ff; font-weight: bold\">INFO    </span> Received exeption while calling APIs for ContentType ModelReference,  <a href=\"file:///opt/conda/lib/python3.11/site-packages/sagemaker/jumpstart/accessors.py\" target=\"_blank\"><span style=\"color: #7f7f7f; text-decoration-color: #7f7f7f\">accessors.py</span></a><span style=\"color: #7f7f7f; text-decoration-color: #7f7f7f\">:</span><a href=\"file:///opt/conda/lib/python3.11/site-packages/sagemaker/jumpstart/accessors.py#303\" target=\"_blank\"><span style=\"color: #7f7f7f; text-decoration-color: #7f7f7f\">303</span></a>\n",
       "<span style=\"color: #7fbfbf; text-decoration-color: #7fbfbf\">                    </span>         retrying with ContentType Model: Failed calling                       <span style=\"color: #7f7f7f; text-decoration-color: #7f7f7f\">                </span>\n",
       "<span style=\"color: #7fbfbf; text-decoration-color: #7fbfbf\">                    </span>         list_hub_content_versions: An error occurred <span style=\"font-weight: bold\">(</span>ResourceNotFound<span style=\"font-weight: bold\">)</span> when  <span style=\"color: #7f7f7f; text-decoration-color: #7f7f7f\">                </span>\n",
       "<span style=\"color: #7fbfbf; text-decoration-color: #7fbfbf\">                    </span>         calling the ListHubContentVersions operation: Hub content with name   <span style=\"color: #7f7f7f; text-decoration-color: #7f7f7f\">                </span>\n",
       "<span style=\"color: #7fbfbf; text-decoration-color: #7fbfbf\">                    </span>         blog-model-test0213 does not exist.                                   <span style=\"color: #7f7f7f; text-decoration-color: #7f7f7f\">                </span>\n",
       "</pre>\n"
      ],
      "text/plain": [
       "\u001b[2;36m                   \u001b[0m\u001b[2;36m \u001b[0m\u001b[1;38;2;0;105;255mINFO    \u001b[0m Received exeption while calling APIs for ContentType ModelReference,  \u001b]8;id=118265;file:///opt/conda/lib/python3.11/site-packages/sagemaker/jumpstart/accessors.py\u001b\\\u001b[2maccessors.py\u001b[0m\u001b]8;;\u001b\\\u001b[2m:\u001b[0m\u001b]8;id=537065;file:///opt/conda/lib/python3.11/site-packages/sagemaker/jumpstart/accessors.py#303\u001b\\\u001b[2m303\u001b[0m\u001b]8;;\u001b\\\n",
       "\u001b[2;36m                    \u001b[0m         retrying with ContentType Model: Failed calling                       \u001b[2m                \u001b[0m\n",
       "\u001b[2;36m                    \u001b[0m         list_hub_content_versions: An error occurred \u001b[1m(\u001b[0mResourceNotFound\u001b[1m)\u001b[0m when  \u001b[2m                \u001b[0m\n",
       "\u001b[2;36m                    \u001b[0m         calling the ListHubContentVersions operation: Hub content with name   \u001b[2m                \u001b[0m\n",
       "\u001b[2;36m                    \u001b[0m         blog-model-test0213 does not exist.                                   \u001b[2m                \u001b[0m\n"
      ]
     },
     "metadata": {},
     "output_type": "display_data"
    },
    {
     "data": {
      "text/html": [
       "<pre style=\"white-space:pre;overflow-x:auto;line-height:normal;font-family:Menlo,'DejaVu Sans Mono',consolas,'Courier New',monospace\"><span style=\"color: #7fbfbf; text-decoration-color: #7fbfbf\">                    </span><span style=\"color: #0069ff; text-decoration-color: #0069ff; font-weight: bold\">INFO    </span> Received exeption while calling APIs for ContentType ModelReference,  <a href=\"file:///opt/conda/lib/python3.11/site-packages/sagemaker/jumpstart/accessors.py\" target=\"_blank\"><span style=\"color: #7f7f7f; text-decoration-color: #7f7f7f\">accessors.py</span></a><span style=\"color: #7f7f7f; text-decoration-color: #7f7f7f\">:</span><a href=\"file:///opt/conda/lib/python3.11/site-packages/sagemaker/jumpstart/accessors.py#303\" target=\"_blank\"><span style=\"color: #7f7f7f; text-decoration-color: #7f7f7f\">303</span></a>\n",
       "<span style=\"color: #7fbfbf; text-decoration-color: #7fbfbf\">                    </span>         retrying with ContentType Model: Failed calling                       <span style=\"color: #7f7f7f; text-decoration-color: #7f7f7f\">                </span>\n",
       "<span style=\"color: #7fbfbf; text-decoration-color: #7fbfbf\">                    </span>         list_hub_content_versions: An error occurred <span style=\"font-weight: bold\">(</span>ResourceNotFound<span style=\"font-weight: bold\">)</span> when  <span style=\"color: #7f7f7f; text-decoration-color: #7f7f7f\">                </span>\n",
       "<span style=\"color: #7fbfbf; text-decoration-color: #7fbfbf\">                    </span>         calling the ListHubContentVersions operation: Hub content with name   <span style=\"color: #7f7f7f; text-decoration-color: #7f7f7f\">                </span>\n",
       "<span style=\"color: #7fbfbf; text-decoration-color: #7fbfbf\">                    </span>         blog-model-test0213 does not exist.                                   <span style=\"color: #7f7f7f; text-decoration-color: #7f7f7f\">                </span>\n",
       "</pre>\n"
      ],
      "text/plain": [
       "\u001b[2;36m                   \u001b[0m\u001b[2;36m \u001b[0m\u001b[1;38;2;0;105;255mINFO    \u001b[0m Received exeption while calling APIs for ContentType ModelReference,  \u001b]8;id=14604;file:///opt/conda/lib/python3.11/site-packages/sagemaker/jumpstart/accessors.py\u001b\\\u001b[2maccessors.py\u001b[0m\u001b]8;;\u001b\\\u001b[2m:\u001b[0m\u001b]8;id=959508;file:///opt/conda/lib/python3.11/site-packages/sagemaker/jumpstart/accessors.py#303\u001b\\\u001b[2m303\u001b[0m\u001b]8;;\u001b\\\n",
       "\u001b[2;36m                    \u001b[0m         retrying with ContentType Model: Failed calling                       \u001b[2m                \u001b[0m\n",
       "\u001b[2;36m                    \u001b[0m         list_hub_content_versions: An error occurred \u001b[1m(\u001b[0mResourceNotFound\u001b[1m)\u001b[0m when  \u001b[2m                \u001b[0m\n",
       "\u001b[2;36m                    \u001b[0m         calling the ListHubContentVersions operation: Hub content with name   \u001b[2m                \u001b[0m\n",
       "\u001b[2;36m                    \u001b[0m         blog-model-test0213 does not exist.                                   \u001b[2m                \u001b[0m\n"
      ]
     },
     "metadata": {},
     "output_type": "display_data"
    },
    {
     "data": {
      "text/html": [
       "<pre style=\"white-space:pre;overflow-x:auto;line-height:normal;font-family:Menlo,'DejaVu Sans Mono',consolas,'Courier New',monospace\"><span style=\"color: #7fbfbf; text-decoration-color: #7fbfbf\">                    </span><span style=\"color: #0069ff; text-decoration-color: #0069ff; font-weight: bold\">INFO    </span> Received exeption while calling APIs for ContentType ModelReference,  <a href=\"file:///opt/conda/lib/python3.11/site-packages/sagemaker/jumpstart/accessors.py\" target=\"_blank\"><span style=\"color: #7f7f7f; text-decoration-color: #7f7f7f\">accessors.py</span></a><span style=\"color: #7f7f7f; text-decoration-color: #7f7f7f\">:</span><a href=\"file:///opt/conda/lib/python3.11/site-packages/sagemaker/jumpstart/accessors.py#303\" target=\"_blank\"><span style=\"color: #7f7f7f; text-decoration-color: #7f7f7f\">303</span></a>\n",
       "<span style=\"color: #7fbfbf; text-decoration-color: #7fbfbf\">                    </span>         retrying with ContentType Model: Failed calling                       <span style=\"color: #7f7f7f; text-decoration-color: #7f7f7f\">                </span>\n",
       "<span style=\"color: #7fbfbf; text-decoration-color: #7fbfbf\">                    </span>         list_hub_content_versions: An error occurred <span style=\"font-weight: bold\">(</span>ResourceNotFound<span style=\"font-weight: bold\">)</span> when  <span style=\"color: #7f7f7f; text-decoration-color: #7f7f7f\">                </span>\n",
       "<span style=\"color: #7fbfbf; text-decoration-color: #7fbfbf\">                    </span>         calling the ListHubContentVersions operation: Hub content with name   <span style=\"color: #7f7f7f; text-decoration-color: #7f7f7f\">                </span>\n",
       "<span style=\"color: #7fbfbf; text-decoration-color: #7fbfbf\">                    </span>         blog-model-test0213 does not exist.                                   <span style=\"color: #7f7f7f; text-decoration-color: #7f7f7f\">                </span>\n",
       "</pre>\n"
      ],
      "text/plain": [
       "\u001b[2;36m                   \u001b[0m\u001b[2;36m \u001b[0m\u001b[1;38;2;0;105;255mINFO    \u001b[0m Received exeption while calling APIs for ContentType ModelReference,  \u001b]8;id=358785;file:///opt/conda/lib/python3.11/site-packages/sagemaker/jumpstart/accessors.py\u001b\\\u001b[2maccessors.py\u001b[0m\u001b]8;;\u001b\\\u001b[2m:\u001b[0m\u001b]8;id=974189;file:///opt/conda/lib/python3.11/site-packages/sagemaker/jumpstart/accessors.py#303\u001b\\\u001b[2m303\u001b[0m\u001b]8;;\u001b\\\n",
       "\u001b[2;36m                    \u001b[0m         retrying with ContentType Model: Failed calling                       \u001b[2m                \u001b[0m\n",
       "\u001b[2;36m                    \u001b[0m         list_hub_content_versions: An error occurred \u001b[1m(\u001b[0mResourceNotFound\u001b[1m)\u001b[0m when  \u001b[2m                \u001b[0m\n",
       "\u001b[2;36m                    \u001b[0m         calling the ListHubContentVersions operation: Hub content with name   \u001b[2m                \u001b[0m\n",
       "\u001b[2;36m                    \u001b[0m         blog-model-test0213 does not exist.                                   \u001b[2m                \u001b[0m\n"
      ]
     },
     "metadata": {},
     "output_type": "display_data"
    },
    {
     "data": {
      "text/html": [
       "<pre style=\"white-space:pre;overflow-x:auto;line-height:normal;font-family:Menlo,'DejaVu Sans Mono',consolas,'Courier New',monospace\"><span style=\"color: #7fbfbf; text-decoration-color: #7fbfbf\">                    </span><span style=\"color: #0069ff; text-decoration-color: #0069ff; font-weight: bold\">INFO    </span> Received exeption while calling APIs for ContentType ModelReference,  <a href=\"file:///opt/conda/lib/python3.11/site-packages/sagemaker/jumpstart/accessors.py\" target=\"_blank\"><span style=\"color: #7f7f7f; text-decoration-color: #7f7f7f\">accessors.py</span></a><span style=\"color: #7f7f7f; text-decoration-color: #7f7f7f\">:</span><a href=\"file:///opt/conda/lib/python3.11/site-packages/sagemaker/jumpstart/accessors.py#303\" target=\"_blank\"><span style=\"color: #7f7f7f; text-decoration-color: #7f7f7f\">303</span></a>\n",
       "<span style=\"color: #7fbfbf; text-decoration-color: #7fbfbf\">                    </span>         retrying with ContentType Model: Failed calling                       <span style=\"color: #7f7f7f; text-decoration-color: #7f7f7f\">                </span>\n",
       "<span style=\"color: #7fbfbf; text-decoration-color: #7fbfbf\">                    </span>         list_hub_content_versions: An error occurred <span style=\"font-weight: bold\">(</span>ResourceNotFound<span style=\"font-weight: bold\">)</span> when  <span style=\"color: #7f7f7f; text-decoration-color: #7f7f7f\">                </span>\n",
       "<span style=\"color: #7fbfbf; text-decoration-color: #7fbfbf\">                    </span>         calling the ListHubContentVersions operation: Hub content with name   <span style=\"color: #7f7f7f; text-decoration-color: #7f7f7f\">                </span>\n",
       "<span style=\"color: #7fbfbf; text-decoration-color: #7fbfbf\">                    </span>         blog-model-test0213 does not exist.                                   <span style=\"color: #7f7f7f; text-decoration-color: #7f7f7f\">                </span>\n",
       "</pre>\n"
      ],
      "text/plain": [
       "\u001b[2;36m                   \u001b[0m\u001b[2;36m \u001b[0m\u001b[1;38;2;0;105;255mINFO    \u001b[0m Received exeption while calling APIs for ContentType ModelReference,  \u001b]8;id=706385;file:///opt/conda/lib/python3.11/site-packages/sagemaker/jumpstart/accessors.py\u001b\\\u001b[2maccessors.py\u001b[0m\u001b]8;;\u001b\\\u001b[2m:\u001b[0m\u001b]8;id=466958;file:///opt/conda/lib/python3.11/site-packages/sagemaker/jumpstart/accessors.py#303\u001b\\\u001b[2m303\u001b[0m\u001b]8;;\u001b\\\n",
       "\u001b[2;36m                    \u001b[0m         retrying with ContentType Model: Failed calling                       \u001b[2m                \u001b[0m\n",
       "\u001b[2;36m                    \u001b[0m         list_hub_content_versions: An error occurred \u001b[1m(\u001b[0mResourceNotFound\u001b[1m)\u001b[0m when  \u001b[2m                \u001b[0m\n",
       "\u001b[2;36m                    \u001b[0m         calling the ListHubContentVersions operation: Hub content with name   \u001b[2m                \u001b[0m\n",
       "\u001b[2;36m                    \u001b[0m         blog-model-test0213 does not exist.                                   \u001b[2m                \u001b[0m\n"
      ]
     },
     "metadata": {},
     "output_type": "display_data"
    },
    {
     "data": {
      "text/html": [
       "<pre style=\"white-space:pre;overflow-x:auto;line-height:normal;font-family:Menlo,'DejaVu Sans Mono',consolas,'Courier New',monospace\"><span style=\"color: #7fbfbf; text-decoration-color: #7fbfbf\">                    </span><span style=\"color: #0069ff; text-decoration-color: #0069ff; font-weight: bold\">INFO    </span> Received exeption while calling APIs for ContentType ModelReference,  <a href=\"file:///opt/conda/lib/python3.11/site-packages/sagemaker/jumpstart/accessors.py\" target=\"_blank\"><span style=\"color: #7f7f7f; text-decoration-color: #7f7f7f\">accessors.py</span></a><span style=\"color: #7f7f7f; text-decoration-color: #7f7f7f\">:</span><a href=\"file:///opt/conda/lib/python3.11/site-packages/sagemaker/jumpstart/accessors.py#303\" target=\"_blank\"><span style=\"color: #7f7f7f; text-decoration-color: #7f7f7f\">303</span></a>\n",
       "<span style=\"color: #7fbfbf; text-decoration-color: #7fbfbf\">                    </span>         retrying with ContentType Model: Failed calling                       <span style=\"color: #7f7f7f; text-decoration-color: #7f7f7f\">                </span>\n",
       "<span style=\"color: #7fbfbf; text-decoration-color: #7fbfbf\">                    </span>         list_hub_content_versions: An error occurred <span style=\"font-weight: bold\">(</span>ResourceNotFound<span style=\"font-weight: bold\">)</span> when  <span style=\"color: #7f7f7f; text-decoration-color: #7f7f7f\">                </span>\n",
       "<span style=\"color: #7fbfbf; text-decoration-color: #7fbfbf\">                    </span>         calling the ListHubContentVersions operation: Hub content with name   <span style=\"color: #7f7f7f; text-decoration-color: #7f7f7f\">                </span>\n",
       "<span style=\"color: #7fbfbf; text-decoration-color: #7fbfbf\">                    </span>         blog-model-test0213 does not exist.                                   <span style=\"color: #7f7f7f; text-decoration-color: #7f7f7f\">                </span>\n",
       "</pre>\n"
      ],
      "text/plain": [
       "\u001b[2;36m                   \u001b[0m\u001b[2;36m \u001b[0m\u001b[1;38;2;0;105;255mINFO    \u001b[0m Received exeption while calling APIs for ContentType ModelReference,  \u001b]8;id=323767;file:///opt/conda/lib/python3.11/site-packages/sagemaker/jumpstart/accessors.py\u001b\\\u001b[2maccessors.py\u001b[0m\u001b]8;;\u001b\\\u001b[2m:\u001b[0m\u001b]8;id=327275;file:///opt/conda/lib/python3.11/site-packages/sagemaker/jumpstart/accessors.py#303\u001b\\\u001b[2m303\u001b[0m\u001b]8;;\u001b\\\n",
       "\u001b[2;36m                    \u001b[0m         retrying with ContentType Model: Failed calling                       \u001b[2m                \u001b[0m\n",
       "\u001b[2;36m                    \u001b[0m         list_hub_content_versions: An error occurred \u001b[1m(\u001b[0mResourceNotFound\u001b[1m)\u001b[0m when  \u001b[2m                \u001b[0m\n",
       "\u001b[2;36m                    \u001b[0m         calling the ListHubContentVersions operation: Hub content with name   \u001b[2m                \u001b[0m\n",
       "\u001b[2;36m                    \u001b[0m         blog-model-test0213 does not exist.                                   \u001b[2m                \u001b[0m\n"
      ]
     },
     "metadata": {},
     "output_type": "display_data"
    },
    {
     "data": {
      "text/html": [
       "<pre style=\"white-space:pre;overflow-x:auto;line-height:normal;font-family:Menlo,'DejaVu Sans Mono',consolas,'Courier New',monospace\"><span style=\"color: #7fbfbf; text-decoration-color: #7fbfbf\">                    </span><span style=\"color: #0069ff; text-decoration-color: #0069ff; font-weight: bold\">INFO    </span> Received exeption while calling APIs for ContentType ModelReference,  <a href=\"file:///opt/conda/lib/python3.11/site-packages/sagemaker/jumpstart/accessors.py\" target=\"_blank\"><span style=\"color: #7f7f7f; text-decoration-color: #7f7f7f\">accessors.py</span></a><span style=\"color: #7f7f7f; text-decoration-color: #7f7f7f\">:</span><a href=\"file:///opt/conda/lib/python3.11/site-packages/sagemaker/jumpstart/accessors.py#303\" target=\"_blank\"><span style=\"color: #7f7f7f; text-decoration-color: #7f7f7f\">303</span></a>\n",
       "<span style=\"color: #7fbfbf; text-decoration-color: #7fbfbf\">                    </span>         retrying with ContentType Model: Failed calling                       <span style=\"color: #7f7f7f; text-decoration-color: #7f7f7f\">                </span>\n",
       "<span style=\"color: #7fbfbf; text-decoration-color: #7fbfbf\">                    </span>         list_hub_content_versions: An error occurred <span style=\"font-weight: bold\">(</span>ResourceNotFound<span style=\"font-weight: bold\">)</span> when  <span style=\"color: #7f7f7f; text-decoration-color: #7f7f7f\">                </span>\n",
       "<span style=\"color: #7fbfbf; text-decoration-color: #7fbfbf\">                    </span>         calling the ListHubContentVersions operation: Hub content with name   <span style=\"color: #7f7f7f; text-decoration-color: #7f7f7f\">                </span>\n",
       "<span style=\"color: #7fbfbf; text-decoration-color: #7fbfbf\">                    </span>         blog-model-test0213 does not exist.                                   <span style=\"color: #7f7f7f; text-decoration-color: #7f7f7f\">                </span>\n",
       "</pre>\n"
      ],
      "text/plain": [
       "\u001b[2;36m                   \u001b[0m\u001b[2;36m \u001b[0m\u001b[1;38;2;0;105;255mINFO    \u001b[0m Received exeption while calling APIs for ContentType ModelReference,  \u001b]8;id=189155;file:///opt/conda/lib/python3.11/site-packages/sagemaker/jumpstart/accessors.py\u001b\\\u001b[2maccessors.py\u001b[0m\u001b]8;;\u001b\\\u001b[2m:\u001b[0m\u001b]8;id=573589;file:///opt/conda/lib/python3.11/site-packages/sagemaker/jumpstart/accessors.py#303\u001b\\\u001b[2m303\u001b[0m\u001b]8;;\u001b\\\n",
       "\u001b[2;36m                    \u001b[0m         retrying with ContentType Model: Failed calling                       \u001b[2m                \u001b[0m\n",
       "\u001b[2;36m                    \u001b[0m         list_hub_content_versions: An error occurred \u001b[1m(\u001b[0mResourceNotFound\u001b[1m)\u001b[0m when  \u001b[2m                \u001b[0m\n",
       "\u001b[2;36m                    \u001b[0m         calling the ListHubContentVersions operation: Hub content with name   \u001b[2m                \u001b[0m\n",
       "\u001b[2;36m                    \u001b[0m         blog-model-test0213 does not exist.                                   \u001b[2m                \u001b[0m\n"
      ]
     },
     "metadata": {},
     "output_type": "display_data"
    },
    {
     "data": {
      "text/html": [
       "<pre style=\"white-space:pre;overflow-x:auto;line-height:normal;font-family:Menlo,'DejaVu Sans Mono',consolas,'Courier New',monospace\"><span style=\"color: #7fbfbf; text-decoration-color: #7fbfbf\">[02/17/25 14:51:41] </span><span style=\"color: #0069ff; text-decoration-color: #0069ff; font-weight: bold\">INFO    </span> Received exeption while calling APIs for ContentType ModelReference,  <a href=\"file:///opt/conda/lib/python3.11/site-packages/sagemaker/jumpstart/accessors.py\" target=\"_blank\"><span style=\"color: #7f7f7f; text-decoration-color: #7f7f7f\">accessors.py</span></a><span style=\"color: #7f7f7f; text-decoration-color: #7f7f7f\">:</span><a href=\"file:///opt/conda/lib/python3.11/site-packages/sagemaker/jumpstart/accessors.py#303\" target=\"_blank\"><span style=\"color: #7f7f7f; text-decoration-color: #7f7f7f\">303</span></a>\n",
       "<span style=\"color: #7fbfbf; text-decoration-color: #7fbfbf\">                    </span>         retrying with ContentType Model: Failed calling                       <span style=\"color: #7f7f7f; text-decoration-color: #7f7f7f\">                </span>\n",
       "<span style=\"color: #7fbfbf; text-decoration-color: #7fbfbf\">                    </span>         list_hub_content_versions: An error occurred <span style=\"font-weight: bold\">(</span>ResourceNotFound<span style=\"font-weight: bold\">)</span> when  <span style=\"color: #7f7f7f; text-decoration-color: #7f7f7f\">                </span>\n",
       "<span style=\"color: #7fbfbf; text-decoration-color: #7fbfbf\">                    </span>         calling the ListHubContentVersions operation: Hub content with name   <span style=\"color: #7f7f7f; text-decoration-color: #7f7f7f\">                </span>\n",
       "<span style=\"color: #7fbfbf; text-decoration-color: #7fbfbf\">                    </span>         blog-model-test0213 does not exist.                                   <span style=\"color: #7f7f7f; text-decoration-color: #7f7f7f\">                </span>\n",
       "</pre>\n"
      ],
      "text/plain": [
       "\u001b[2;36m[02/17/25 14:51:41]\u001b[0m\u001b[2;36m \u001b[0m\u001b[1;38;2;0;105;255mINFO    \u001b[0m Received exeption while calling APIs for ContentType ModelReference,  \u001b]8;id=752766;file:///opt/conda/lib/python3.11/site-packages/sagemaker/jumpstart/accessors.py\u001b\\\u001b[2maccessors.py\u001b[0m\u001b]8;;\u001b\\\u001b[2m:\u001b[0m\u001b]8;id=388543;file:///opt/conda/lib/python3.11/site-packages/sagemaker/jumpstart/accessors.py#303\u001b\\\u001b[2m303\u001b[0m\u001b]8;;\u001b\\\n",
       "\u001b[2;36m                    \u001b[0m         retrying with ContentType Model: Failed calling                       \u001b[2m                \u001b[0m\n",
       "\u001b[2;36m                    \u001b[0m         list_hub_content_versions: An error occurred \u001b[1m(\u001b[0mResourceNotFound\u001b[1m)\u001b[0m when  \u001b[2m                \u001b[0m\n",
       "\u001b[2;36m                    \u001b[0m         calling the ListHubContentVersions operation: Hub content with name   \u001b[2m                \u001b[0m\n",
       "\u001b[2;36m                    \u001b[0m         blog-model-test0213 does not exist.                                   \u001b[2m                \u001b[0m\n"
      ]
     },
     "metadata": {},
     "output_type": "display_data"
    },
    {
     "data": {
      "text/html": [
       "<pre style=\"white-space:pre;overflow-x:auto;line-height:normal;font-family:Menlo,'DejaVu Sans Mono',consolas,'Courier New',monospace\"><span style=\"color: #7fbfbf; text-decoration-color: #7fbfbf\">                    </span><span style=\"color: #0069ff; text-decoration-color: #0069ff; font-weight: bold\">INFO    </span> Received exeption while calling APIs for ContentType ModelReference,  <a href=\"file:///opt/conda/lib/python3.11/site-packages/sagemaker/jumpstart/accessors.py\" target=\"_blank\"><span style=\"color: #7f7f7f; text-decoration-color: #7f7f7f\">accessors.py</span></a><span style=\"color: #7f7f7f; text-decoration-color: #7f7f7f\">:</span><a href=\"file:///opt/conda/lib/python3.11/site-packages/sagemaker/jumpstart/accessors.py#303\" target=\"_blank\"><span style=\"color: #7f7f7f; text-decoration-color: #7f7f7f\">303</span></a>\n",
       "<span style=\"color: #7fbfbf; text-decoration-color: #7fbfbf\">                    </span>         retrying with ContentType Model: Failed calling                       <span style=\"color: #7f7f7f; text-decoration-color: #7f7f7f\">                </span>\n",
       "<span style=\"color: #7fbfbf; text-decoration-color: #7fbfbf\">                    </span>         list_hub_content_versions: An error occurred <span style=\"font-weight: bold\">(</span>ResourceNotFound<span style=\"font-weight: bold\">)</span> when  <span style=\"color: #7f7f7f; text-decoration-color: #7f7f7f\">                </span>\n",
       "<span style=\"color: #7fbfbf; text-decoration-color: #7fbfbf\">                    </span>         calling the ListHubContentVersions operation: Hub content with name   <span style=\"color: #7f7f7f; text-decoration-color: #7f7f7f\">                </span>\n",
       "<span style=\"color: #7fbfbf; text-decoration-color: #7fbfbf\">                    </span>         blog-model-test0213 does not exist.                                   <span style=\"color: #7f7f7f; text-decoration-color: #7f7f7f\">                </span>\n",
       "</pre>\n"
      ],
      "text/plain": [
       "\u001b[2;36m                   \u001b[0m\u001b[2;36m \u001b[0m\u001b[1;38;2;0;105;255mINFO    \u001b[0m Received exeption while calling APIs for ContentType ModelReference,  \u001b]8;id=848202;file:///opt/conda/lib/python3.11/site-packages/sagemaker/jumpstart/accessors.py\u001b\\\u001b[2maccessors.py\u001b[0m\u001b]8;;\u001b\\\u001b[2m:\u001b[0m\u001b]8;id=896169;file:///opt/conda/lib/python3.11/site-packages/sagemaker/jumpstart/accessors.py#303\u001b\\\u001b[2m303\u001b[0m\u001b]8;;\u001b\\\n",
       "\u001b[2;36m                    \u001b[0m         retrying with ContentType Model: Failed calling                       \u001b[2m                \u001b[0m\n",
       "\u001b[2;36m                    \u001b[0m         list_hub_content_versions: An error occurred \u001b[1m(\u001b[0mResourceNotFound\u001b[1m)\u001b[0m when  \u001b[2m                \u001b[0m\n",
       "\u001b[2;36m                    \u001b[0m         calling the ListHubContentVersions operation: Hub content with name   \u001b[2m                \u001b[0m\n",
       "\u001b[2;36m                    \u001b[0m         blog-model-test0213 does not exist.                                   \u001b[2m                \u001b[0m\n"
      ]
     },
     "metadata": {},
     "output_type": "display_data"
    },
    {
     "data": {
      "text/html": [
       "<pre style=\"white-space:pre;overflow-x:auto;line-height:normal;font-family:Menlo,'DejaVu Sans Mono',consolas,'Courier New',monospace\"><span style=\"color: #7fbfbf; text-decoration-color: #7fbfbf\">[02/17/25 14:51:42] </span><span style=\"color: #0069ff; text-decoration-color: #0069ff; font-weight: bold\">INFO    </span> Received exeption while calling APIs for ContentType ModelReference,  <a href=\"file:///opt/conda/lib/python3.11/site-packages/sagemaker/jumpstart/accessors.py\" target=\"_blank\"><span style=\"color: #7f7f7f; text-decoration-color: #7f7f7f\">accessors.py</span></a><span style=\"color: #7f7f7f; text-decoration-color: #7f7f7f\">:</span><a href=\"file:///opt/conda/lib/python3.11/site-packages/sagemaker/jumpstart/accessors.py#303\" target=\"_blank\"><span style=\"color: #7f7f7f; text-decoration-color: #7f7f7f\">303</span></a>\n",
       "<span style=\"color: #7fbfbf; text-decoration-color: #7fbfbf\">                    </span>         retrying with ContentType Model: Failed calling                       <span style=\"color: #7f7f7f; text-decoration-color: #7f7f7f\">                </span>\n",
       "<span style=\"color: #7fbfbf; text-decoration-color: #7fbfbf\">                    </span>         list_hub_content_versions: An error occurred <span style=\"font-weight: bold\">(</span>ResourceNotFound<span style=\"font-weight: bold\">)</span> when  <span style=\"color: #7f7f7f; text-decoration-color: #7f7f7f\">                </span>\n",
       "<span style=\"color: #7fbfbf; text-decoration-color: #7fbfbf\">                    </span>         calling the ListHubContentVersions operation: Hub content with name   <span style=\"color: #7f7f7f; text-decoration-color: #7f7f7f\">                </span>\n",
       "<span style=\"color: #7fbfbf; text-decoration-color: #7fbfbf\">                    </span>         blog-model-test0213 does not exist.                                   <span style=\"color: #7f7f7f; text-decoration-color: #7f7f7f\">                </span>\n",
       "</pre>\n"
      ],
      "text/plain": [
       "\u001b[2;36m[02/17/25 14:51:42]\u001b[0m\u001b[2;36m \u001b[0m\u001b[1;38;2;0;105;255mINFO    \u001b[0m Received exeption while calling APIs for ContentType ModelReference,  \u001b]8;id=65424;file:///opt/conda/lib/python3.11/site-packages/sagemaker/jumpstart/accessors.py\u001b\\\u001b[2maccessors.py\u001b[0m\u001b]8;;\u001b\\\u001b[2m:\u001b[0m\u001b]8;id=697727;file:///opt/conda/lib/python3.11/site-packages/sagemaker/jumpstart/accessors.py#303\u001b\\\u001b[2m303\u001b[0m\u001b]8;;\u001b\\\n",
       "\u001b[2;36m                    \u001b[0m         retrying with ContentType Model: Failed calling                       \u001b[2m                \u001b[0m\n",
       "\u001b[2;36m                    \u001b[0m         list_hub_content_versions: An error occurred \u001b[1m(\u001b[0mResourceNotFound\u001b[1m)\u001b[0m when  \u001b[2m                \u001b[0m\n",
       "\u001b[2;36m                    \u001b[0m         calling the ListHubContentVersions operation: Hub content with name   \u001b[2m                \u001b[0m\n",
       "\u001b[2;36m                    \u001b[0m         blog-model-test0213 does not exist.                                   \u001b[2m                \u001b[0m\n"
      ]
     },
     "metadata": {},
     "output_type": "display_data"
    },
    {
     "data": {
      "text/html": [
       "<pre style=\"white-space:pre;overflow-x:auto;line-height:normal;font-family:Menlo,'DejaVu Sans Mono',consolas,'Courier New',monospace\"><span style=\"color: #7fbfbf; text-decoration-color: #7fbfbf\">                    </span><span style=\"color: #0069ff; text-decoration-color: #0069ff; font-weight: bold\">INFO    </span> Received exeption while calling APIs for ContentType ModelReference,  <a href=\"file:///opt/conda/lib/python3.11/site-packages/sagemaker/jumpstart/accessors.py\" target=\"_blank\"><span style=\"color: #7f7f7f; text-decoration-color: #7f7f7f\">accessors.py</span></a><span style=\"color: #7f7f7f; text-decoration-color: #7f7f7f\">:</span><a href=\"file:///opt/conda/lib/python3.11/site-packages/sagemaker/jumpstart/accessors.py#303\" target=\"_blank\"><span style=\"color: #7f7f7f; text-decoration-color: #7f7f7f\">303</span></a>\n",
       "<span style=\"color: #7fbfbf; text-decoration-color: #7fbfbf\">                    </span>         retrying with ContentType Model: Failed calling                       <span style=\"color: #7f7f7f; text-decoration-color: #7f7f7f\">                </span>\n",
       "<span style=\"color: #7fbfbf; text-decoration-color: #7fbfbf\">                    </span>         list_hub_content_versions: An error occurred <span style=\"font-weight: bold\">(</span>ResourceNotFound<span style=\"font-weight: bold\">)</span> when  <span style=\"color: #7f7f7f; text-decoration-color: #7f7f7f\">                </span>\n",
       "<span style=\"color: #7fbfbf; text-decoration-color: #7fbfbf\">                    </span>         calling the ListHubContentVersions operation: Hub content with name   <span style=\"color: #7f7f7f; text-decoration-color: #7f7f7f\">                </span>\n",
       "<span style=\"color: #7fbfbf; text-decoration-color: #7fbfbf\">                    </span>         blog-model-test0213 does not exist.                                   <span style=\"color: #7f7f7f; text-decoration-color: #7f7f7f\">                </span>\n",
       "</pre>\n"
      ],
      "text/plain": [
       "\u001b[2;36m                   \u001b[0m\u001b[2;36m \u001b[0m\u001b[1;38;2;0;105;255mINFO    \u001b[0m Received exeption while calling APIs for ContentType ModelReference,  \u001b]8;id=929068;file:///opt/conda/lib/python3.11/site-packages/sagemaker/jumpstart/accessors.py\u001b\\\u001b[2maccessors.py\u001b[0m\u001b]8;;\u001b\\\u001b[2m:\u001b[0m\u001b]8;id=706842;file:///opt/conda/lib/python3.11/site-packages/sagemaker/jumpstart/accessors.py#303\u001b\\\u001b[2m303\u001b[0m\u001b]8;;\u001b\\\n",
       "\u001b[2;36m                    \u001b[0m         retrying with ContentType Model: Failed calling                       \u001b[2m                \u001b[0m\n",
       "\u001b[2;36m                    \u001b[0m         list_hub_content_versions: An error occurred \u001b[1m(\u001b[0mResourceNotFound\u001b[1m)\u001b[0m when  \u001b[2m                \u001b[0m\n",
       "\u001b[2;36m                    \u001b[0m         calling the ListHubContentVersions operation: Hub content with name   \u001b[2m                \u001b[0m\n",
       "\u001b[2;36m                    \u001b[0m         blog-model-test0213 does not exist.                                   \u001b[2m                \u001b[0m\n"
      ]
     },
     "metadata": {},
     "output_type": "display_data"
    },
    {
     "data": {
      "text/html": [
       "<pre style=\"white-space:pre;overflow-x:auto;line-height:normal;font-family:Menlo,'DejaVu Sans Mono',consolas,'Courier New',monospace\"><span style=\"color: #7fbfbf; text-decoration-color: #7fbfbf\">                    </span><span style=\"color: #0069ff; text-decoration-color: #0069ff; font-weight: bold\">INFO    </span> Received exeption while calling APIs for ContentType ModelReference,  <a href=\"file:///opt/conda/lib/python3.11/site-packages/sagemaker/jumpstart/accessors.py\" target=\"_blank\"><span style=\"color: #7f7f7f; text-decoration-color: #7f7f7f\">accessors.py</span></a><span style=\"color: #7f7f7f; text-decoration-color: #7f7f7f\">:</span><a href=\"file:///opt/conda/lib/python3.11/site-packages/sagemaker/jumpstart/accessors.py#303\" target=\"_blank\"><span style=\"color: #7f7f7f; text-decoration-color: #7f7f7f\">303</span></a>\n",
       "<span style=\"color: #7fbfbf; text-decoration-color: #7fbfbf\">                    </span>         retrying with ContentType Model: Failed calling                       <span style=\"color: #7f7f7f; text-decoration-color: #7f7f7f\">                </span>\n",
       "<span style=\"color: #7fbfbf; text-decoration-color: #7fbfbf\">                    </span>         list_hub_content_versions: An error occurred <span style=\"font-weight: bold\">(</span>ResourceNotFound<span style=\"font-weight: bold\">)</span> when  <span style=\"color: #7f7f7f; text-decoration-color: #7f7f7f\">                </span>\n",
       "<span style=\"color: #7fbfbf; text-decoration-color: #7fbfbf\">                    </span>         calling the ListHubContentVersions operation: Hub content with name   <span style=\"color: #7f7f7f; text-decoration-color: #7f7f7f\">                </span>\n",
       "<span style=\"color: #7fbfbf; text-decoration-color: #7fbfbf\">                    </span>         blog-model-test0213 does not exist.                                   <span style=\"color: #7f7f7f; text-decoration-color: #7f7f7f\">                </span>\n",
       "</pre>\n"
      ],
      "text/plain": [
       "\u001b[2;36m                   \u001b[0m\u001b[2;36m \u001b[0m\u001b[1;38;2;0;105;255mINFO    \u001b[0m Received exeption while calling APIs for ContentType ModelReference,  \u001b]8;id=860324;file:///opt/conda/lib/python3.11/site-packages/sagemaker/jumpstart/accessors.py\u001b\\\u001b[2maccessors.py\u001b[0m\u001b]8;;\u001b\\\u001b[2m:\u001b[0m\u001b]8;id=646552;file:///opt/conda/lib/python3.11/site-packages/sagemaker/jumpstart/accessors.py#303\u001b\\\u001b[2m303\u001b[0m\u001b]8;;\u001b\\\n",
       "\u001b[2;36m                    \u001b[0m         retrying with ContentType Model: Failed calling                       \u001b[2m                \u001b[0m\n",
       "\u001b[2;36m                    \u001b[0m         list_hub_content_versions: An error occurred \u001b[1m(\u001b[0mResourceNotFound\u001b[1m)\u001b[0m when  \u001b[2m                \u001b[0m\n",
       "\u001b[2;36m                    \u001b[0m         calling the ListHubContentVersions operation: Hub content with name   \u001b[2m                \u001b[0m\n",
       "\u001b[2;36m                    \u001b[0m         blog-model-test0213 does not exist.                                   \u001b[2m                \u001b[0m\n"
      ]
     },
     "metadata": {},
     "output_type": "display_data"
    },
    {
     "data": {
      "text/html": [
       "<pre style=\"white-space:pre;overflow-x:auto;line-height:normal;font-family:Menlo,'DejaVu Sans Mono',consolas,'Courier New',monospace\"><span style=\"color: #7fbfbf; text-decoration-color: #7fbfbf\">                    </span><span style=\"color: #0069ff; text-decoration-color: #0069ff; font-weight: bold\">INFO    </span> Received exeption while calling APIs for ContentType ModelReference,  <a href=\"file:///opt/conda/lib/python3.11/site-packages/sagemaker/jumpstart/accessors.py\" target=\"_blank\"><span style=\"color: #7f7f7f; text-decoration-color: #7f7f7f\">accessors.py</span></a><span style=\"color: #7f7f7f; text-decoration-color: #7f7f7f\">:</span><a href=\"file:///opt/conda/lib/python3.11/site-packages/sagemaker/jumpstart/accessors.py#303\" target=\"_blank\"><span style=\"color: #7f7f7f; text-decoration-color: #7f7f7f\">303</span></a>\n",
       "<span style=\"color: #7fbfbf; text-decoration-color: #7fbfbf\">                    </span>         retrying with ContentType Model: Failed calling                       <span style=\"color: #7f7f7f; text-decoration-color: #7f7f7f\">                </span>\n",
       "<span style=\"color: #7fbfbf; text-decoration-color: #7fbfbf\">                    </span>         list_hub_content_versions: An error occurred <span style=\"font-weight: bold\">(</span>ResourceNotFound<span style=\"font-weight: bold\">)</span> when  <span style=\"color: #7f7f7f; text-decoration-color: #7f7f7f\">                </span>\n",
       "<span style=\"color: #7fbfbf; text-decoration-color: #7fbfbf\">                    </span>         calling the ListHubContentVersions operation: Hub content with name   <span style=\"color: #7f7f7f; text-decoration-color: #7f7f7f\">                </span>\n",
       "<span style=\"color: #7fbfbf; text-decoration-color: #7fbfbf\">                    </span>         blog-model-test0213 does not exist.                                   <span style=\"color: #7f7f7f; text-decoration-color: #7f7f7f\">                </span>\n",
       "</pre>\n"
      ],
      "text/plain": [
       "\u001b[2;36m                   \u001b[0m\u001b[2;36m \u001b[0m\u001b[1;38;2;0;105;255mINFO    \u001b[0m Received exeption while calling APIs for ContentType ModelReference,  \u001b]8;id=465766;file:///opt/conda/lib/python3.11/site-packages/sagemaker/jumpstart/accessors.py\u001b\\\u001b[2maccessors.py\u001b[0m\u001b]8;;\u001b\\\u001b[2m:\u001b[0m\u001b]8;id=803436;file:///opt/conda/lib/python3.11/site-packages/sagemaker/jumpstart/accessors.py#303\u001b\\\u001b[2m303\u001b[0m\u001b]8;;\u001b\\\n",
       "\u001b[2;36m                    \u001b[0m         retrying with ContentType Model: Failed calling                       \u001b[2m                \u001b[0m\n",
       "\u001b[2;36m                    \u001b[0m         list_hub_content_versions: An error occurred \u001b[1m(\u001b[0mResourceNotFound\u001b[1m)\u001b[0m when  \u001b[2m                \u001b[0m\n",
       "\u001b[2;36m                    \u001b[0m         calling the ListHubContentVersions operation: Hub content with name   \u001b[2m                \u001b[0m\n",
       "\u001b[2;36m                    \u001b[0m         blog-model-test0213 does not exist.                                   \u001b[2m                \u001b[0m\n"
      ]
     },
     "metadata": {},
     "output_type": "display_data"
    },
    {
     "data": {
      "text/html": [
       "<pre style=\"white-space:pre;overflow-x:auto;line-height:normal;font-family:Menlo,'DejaVu Sans Mono',consolas,'Courier New',monospace\"><span style=\"color: #7fbfbf; text-decoration-color: #7fbfbf\">                    </span><span style=\"color: #0069ff; text-decoration-color: #0069ff; font-weight: bold\">INFO    </span> Creating model with name: Custom-Model-Hub1-<span style=\"color: #008080; text-decoration-color: #008080; font-weight: bold\">2025</span>-02-17-14-51-35-834    <a href=\"file:///opt/conda/lib/python3.11/site-packages/sagemaker/session.py\" target=\"_blank\"><span style=\"color: #7f7f7f; text-decoration-color: #7f7f7f\">session.py</span></a><span style=\"color: #7f7f7f; text-decoration-color: #7f7f7f\">:</span><a href=\"file:///opt/conda/lib/python3.11/site-packages/sagemaker/session.py#4094\" target=\"_blank\"><span style=\"color: #7f7f7f; text-decoration-color: #7f7f7f\">4094</span></a>\n",
       "</pre>\n"
      ],
      "text/plain": [
       "\u001b[2;36m                   \u001b[0m\u001b[2;36m \u001b[0m\u001b[1;38;2;0;105;255mINFO    \u001b[0m Creating model with name: Custom-Model-Hub1-\u001b[1;36m2025\u001b[0m-02-17-14-51-35-834    \u001b]8;id=10856;file:///opt/conda/lib/python3.11/site-packages/sagemaker/session.py\u001b\\\u001b[2msession.py\u001b[0m\u001b]8;;\u001b\\\u001b[2m:\u001b[0m\u001b]8;id=558405;file:///opt/conda/lib/python3.11/site-packages/sagemaker/session.py#4094\u001b\\\u001b[2m4094\u001b[0m\u001b]8;;\u001b\\\n"
      ]
     },
     "metadata": {},
     "output_type": "display_data"
    },
    {
     "data": {
      "text/html": [
       "<pre style=\"white-space:pre;overflow-x:auto;line-height:normal;font-family:Menlo,'DejaVu Sans Mono',consolas,'Courier New',monospace\"><span style=\"color: #7fbfbf; text-decoration-color: #7fbfbf\">[02/17/25 14:51:43] </span><span style=\"color: #0069ff; text-decoration-color: #0069ff; font-weight: bold\">INFO    </span> Creating endpoint-config with name                                     <a href=\"file:///opt/conda/lib/python3.11/site-packages/sagemaker/session.py\" target=\"_blank\"><span style=\"color: #7f7f7f; text-decoration-color: #7f7f7f\">session.py</span></a><span style=\"color: #7f7f7f; text-decoration-color: #7f7f7f\">:</span><a href=\"file:///opt/conda/lib/python3.11/site-packages/sagemaker/session.py#5889\" target=\"_blank\"><span style=\"color: #7f7f7f; text-decoration-color: #7f7f7f\">5889</span></a>\n",
       "<span style=\"color: #7fbfbf; text-decoration-color: #7fbfbf\">                    </span>         Custom-Model-Hub1-<span style=\"color: #008080; text-decoration-color: #008080; font-weight: bold\">2025</span>-02-17-14-51-42-318                              <span style=\"color: #7f7f7f; text-decoration-color: #7f7f7f\">               </span>\n",
       "</pre>\n"
      ],
      "text/plain": [
       "\u001b[2;36m[02/17/25 14:51:43]\u001b[0m\u001b[2;36m \u001b[0m\u001b[1;38;2;0;105;255mINFO    \u001b[0m Creating endpoint-config with name                                     \u001b]8;id=566031;file:///opt/conda/lib/python3.11/site-packages/sagemaker/session.py\u001b\\\u001b[2msession.py\u001b[0m\u001b]8;;\u001b\\\u001b[2m:\u001b[0m\u001b]8;id=761732;file:///opt/conda/lib/python3.11/site-packages/sagemaker/session.py#5889\u001b\\\u001b[2m5889\u001b[0m\u001b]8;;\u001b\\\n",
       "\u001b[2;36m                    \u001b[0m         Custom-Model-Hub1-\u001b[1;36m2025\u001b[0m-02-17-14-51-42-318                              \u001b[2m               \u001b[0m\n"
      ]
     },
     "metadata": {},
     "output_type": "display_data"
    },
    {
     "data": {
      "text/html": [
       "<pre style=\"white-space:pre;overflow-x:auto;line-height:normal;font-family:Menlo,'DejaVu Sans Mono',consolas,'Courier New',monospace\"><span style=\"color: #7fbfbf; text-decoration-color: #7fbfbf\">                    </span><span style=\"color: #0069ff; text-decoration-color: #0069ff; font-weight: bold\">INFO    </span> Creating endpoint with name Custom-Model-Hub1-<span style=\"color: #008080; text-decoration-color: #008080; font-weight: bold\">2025</span>-02-17-14-51-42-318  <a href=\"file:///opt/conda/lib/python3.11/site-packages/sagemaker/session.py\" target=\"_blank\"><span style=\"color: #7f7f7f; text-decoration-color: #7f7f7f\">session.py</span></a><span style=\"color: #7f7f7f; text-decoration-color: #7f7f7f\">:</span><a href=\"file:///opt/conda/lib/python3.11/site-packages/sagemaker/session.py#4711\" target=\"_blank\"><span style=\"color: #7f7f7f; text-decoration-color: #7f7f7f\">4711</span></a>\n",
       "</pre>\n"
      ],
      "text/plain": [
       "\u001b[2;36m                   \u001b[0m\u001b[2;36m \u001b[0m\u001b[1;38;2;0;105;255mINFO    \u001b[0m Creating endpoint with name Custom-Model-Hub1-\u001b[1;36m2025\u001b[0m-02-17-14-51-42-318  \u001b]8;id=921638;file:///opt/conda/lib/python3.11/site-packages/sagemaker/session.py\u001b\\\u001b[2msession.py\u001b[0m\u001b]8;;\u001b\\\u001b[2m:\u001b[0m\u001b]8;id=600619;file:///opt/conda/lib/python3.11/site-packages/sagemaker/session.py#4711\u001b\\\u001b[2m4711\u001b[0m\u001b]8;;\u001b\\\n"
      ]
     },
     "metadata": {},
     "output_type": "display_data"
    },
    {
     "name": "stdout",
     "output_type": "stream",
     "text": [
      "------!"
     ]
    },
    {
     "data": {
      "text/html": [
       "<pre style=\"white-space:pre;overflow-x:auto;line-height:normal;font-family:Menlo,'DejaVu Sans Mono',consolas,'Courier New',monospace\"><span style=\"color: #7fbfbf; text-decoration-color: #7fbfbf\">[02/17/25 14:55:14] </span><span style=\"color: #0069ff; text-decoration-color: #0069ff; font-weight: bold\">INFO    </span> Received exeption while calling APIs for ContentType ModelReference,  <a href=\"file:///opt/conda/lib/python3.11/site-packages/sagemaker/jumpstart/accessors.py\" target=\"_blank\"><span style=\"color: #7f7f7f; text-decoration-color: #7f7f7f\">accessors.py</span></a><span style=\"color: #7f7f7f; text-decoration-color: #7f7f7f\">:</span><a href=\"file:///opt/conda/lib/python3.11/site-packages/sagemaker/jumpstart/accessors.py#303\" target=\"_blank\"><span style=\"color: #7f7f7f; text-decoration-color: #7f7f7f\">303</span></a>\n",
       "<span style=\"color: #7fbfbf; text-decoration-color: #7fbfbf\">                    </span>         retrying with ContentType Model: Failed calling                       <span style=\"color: #7f7f7f; text-decoration-color: #7f7f7f\">                </span>\n",
       "<span style=\"color: #7fbfbf; text-decoration-color: #7fbfbf\">                    </span>         list_hub_content_versions: An error occurred <span style=\"font-weight: bold\">(</span>ResourceNotFound<span style=\"font-weight: bold\">)</span> when  <span style=\"color: #7f7f7f; text-decoration-color: #7f7f7f\">                </span>\n",
       "<span style=\"color: #7fbfbf; text-decoration-color: #7fbfbf\">                    </span>         calling the ListHubContentVersions operation: Hub content with name   <span style=\"color: #7f7f7f; text-decoration-color: #7f7f7f\">                </span>\n",
       "<span style=\"color: #7fbfbf; text-decoration-color: #7fbfbf\">                    </span>         blog-model-test0213 does not exist.                                   <span style=\"color: #7f7f7f; text-decoration-color: #7f7f7f\">                </span>\n",
       "</pre>\n"
      ],
      "text/plain": [
       "\u001b[2;36m[02/17/25 14:55:14]\u001b[0m\u001b[2;36m \u001b[0m\u001b[1;38;2;0;105;255mINFO    \u001b[0m Received exeption while calling APIs for ContentType ModelReference,  \u001b]8;id=6083;file:///opt/conda/lib/python3.11/site-packages/sagemaker/jumpstart/accessors.py\u001b\\\u001b[2maccessors.py\u001b[0m\u001b]8;;\u001b\\\u001b[2m:\u001b[0m\u001b]8;id=720138;file:///opt/conda/lib/python3.11/site-packages/sagemaker/jumpstart/accessors.py#303\u001b\\\u001b[2m303\u001b[0m\u001b]8;;\u001b\\\n",
       "\u001b[2;36m                    \u001b[0m         retrying with ContentType Model: Failed calling                       \u001b[2m                \u001b[0m\n",
       "\u001b[2;36m                    \u001b[0m         list_hub_content_versions: An error occurred \u001b[1m(\u001b[0mResourceNotFound\u001b[1m)\u001b[0m when  \u001b[2m                \u001b[0m\n",
       "\u001b[2;36m                    \u001b[0m         calling the ListHubContentVersions operation: Hub content with name   \u001b[2m                \u001b[0m\n",
       "\u001b[2;36m                    \u001b[0m         blog-model-test0213 does not exist.                                   \u001b[2m                \u001b[0m\n"
      ]
     },
     "metadata": {},
     "output_type": "display_data"
    },
    {
     "data": {
      "text/html": [
       "<pre style=\"white-space:pre;overflow-x:auto;line-height:normal;font-family:Menlo,'DejaVu Sans Mono',consolas,'Courier New',monospace\"><span style=\"color: #7fbfbf; text-decoration-color: #7fbfbf\">                    </span><span style=\"color: #0069ff; text-decoration-color: #0069ff; font-weight: bold\">INFO    </span> Received exeption while calling APIs for ContentType ModelReference,  <a href=\"file:///opt/conda/lib/python3.11/site-packages/sagemaker/jumpstart/accessors.py\" target=\"_blank\"><span style=\"color: #7f7f7f; text-decoration-color: #7f7f7f\">accessors.py</span></a><span style=\"color: #7f7f7f; text-decoration-color: #7f7f7f\">:</span><a href=\"file:///opt/conda/lib/python3.11/site-packages/sagemaker/jumpstart/accessors.py#303\" target=\"_blank\"><span style=\"color: #7f7f7f; text-decoration-color: #7f7f7f\">303</span></a>\n",
       "<span style=\"color: #7fbfbf; text-decoration-color: #7fbfbf\">                    </span>         retrying with ContentType Model: Failed calling                       <span style=\"color: #7f7f7f; text-decoration-color: #7f7f7f\">                </span>\n",
       "<span style=\"color: #7fbfbf; text-decoration-color: #7fbfbf\">                    </span>         list_hub_content_versions: An error occurred <span style=\"font-weight: bold\">(</span>ResourceNotFound<span style=\"font-weight: bold\">)</span> when  <span style=\"color: #7f7f7f; text-decoration-color: #7f7f7f\">                </span>\n",
       "<span style=\"color: #7fbfbf; text-decoration-color: #7fbfbf\">                    </span>         calling the ListHubContentVersions operation: Hub content with name   <span style=\"color: #7f7f7f; text-decoration-color: #7f7f7f\">                </span>\n",
       "<span style=\"color: #7fbfbf; text-decoration-color: #7fbfbf\">                    </span>         blog-model-test0213 does not exist.                                   <span style=\"color: #7f7f7f; text-decoration-color: #7f7f7f\">                </span>\n",
       "</pre>\n"
      ],
      "text/plain": [
       "\u001b[2;36m                   \u001b[0m\u001b[2;36m \u001b[0m\u001b[1;38;2;0;105;255mINFO    \u001b[0m Received exeption while calling APIs for ContentType ModelReference,  \u001b]8;id=148527;file:///opt/conda/lib/python3.11/site-packages/sagemaker/jumpstart/accessors.py\u001b\\\u001b[2maccessors.py\u001b[0m\u001b]8;;\u001b\\\u001b[2m:\u001b[0m\u001b]8;id=697036;file:///opt/conda/lib/python3.11/site-packages/sagemaker/jumpstart/accessors.py#303\u001b\\\u001b[2m303\u001b[0m\u001b]8;;\u001b\\\n",
       "\u001b[2;36m                    \u001b[0m         retrying with ContentType Model: Failed calling                       \u001b[2m                \u001b[0m\n",
       "\u001b[2;36m                    \u001b[0m         list_hub_content_versions: An error occurred \u001b[1m(\u001b[0mResourceNotFound\u001b[1m)\u001b[0m when  \u001b[2m                \u001b[0m\n",
       "\u001b[2;36m                    \u001b[0m         calling the ListHubContentVersions operation: Hub content with name   \u001b[2m                \u001b[0m\n",
       "\u001b[2;36m                    \u001b[0m         blog-model-test0213 does not exist.                                   \u001b[2m                \u001b[0m\n"
      ]
     },
     "metadata": {},
     "output_type": "display_data"
    },
    {
     "data": {
      "text/html": [
       "<pre style=\"white-space:pre;overflow-x:auto;line-height:normal;font-family:Menlo,'DejaVu Sans Mono',consolas,'Courier New',monospace\"><span style=\"color: #7fbfbf; text-decoration-color: #7fbfbf\">                    </span><span style=\"color: #0069ff; text-decoration-color: #0069ff; font-weight: bold\">INFO    </span> Received exeption while calling APIs for ContentType ModelReference,  <a href=\"file:///opt/conda/lib/python3.11/site-packages/sagemaker/jumpstart/accessors.py\" target=\"_blank\"><span style=\"color: #7f7f7f; text-decoration-color: #7f7f7f\">accessors.py</span></a><span style=\"color: #7f7f7f; text-decoration-color: #7f7f7f\">:</span><a href=\"file:///opt/conda/lib/python3.11/site-packages/sagemaker/jumpstart/accessors.py#303\" target=\"_blank\"><span style=\"color: #7f7f7f; text-decoration-color: #7f7f7f\">303</span></a>\n",
       "<span style=\"color: #7fbfbf; text-decoration-color: #7fbfbf\">                    </span>         retrying with ContentType Model: Failed calling                       <span style=\"color: #7f7f7f; text-decoration-color: #7f7f7f\">                </span>\n",
       "<span style=\"color: #7fbfbf; text-decoration-color: #7fbfbf\">                    </span>         list_hub_content_versions: An error occurred <span style=\"font-weight: bold\">(</span>ResourceNotFound<span style=\"font-weight: bold\">)</span> when  <span style=\"color: #7f7f7f; text-decoration-color: #7f7f7f\">                </span>\n",
       "<span style=\"color: #7fbfbf; text-decoration-color: #7fbfbf\">                    </span>         calling the ListHubContentVersions operation: Hub content with name   <span style=\"color: #7f7f7f; text-decoration-color: #7f7f7f\">                </span>\n",
       "<span style=\"color: #7fbfbf; text-decoration-color: #7fbfbf\">                    </span>         blog-model-test0213 does not exist.                                   <span style=\"color: #7f7f7f; text-decoration-color: #7f7f7f\">                </span>\n",
       "</pre>\n"
      ],
      "text/plain": [
       "\u001b[2;36m                   \u001b[0m\u001b[2;36m \u001b[0m\u001b[1;38;2;0;105;255mINFO    \u001b[0m Received exeption while calling APIs for ContentType ModelReference,  \u001b]8;id=614792;file:///opt/conda/lib/python3.11/site-packages/sagemaker/jumpstart/accessors.py\u001b\\\u001b[2maccessors.py\u001b[0m\u001b]8;;\u001b\\\u001b[2m:\u001b[0m\u001b]8;id=648039;file:///opt/conda/lib/python3.11/site-packages/sagemaker/jumpstart/accessors.py#303\u001b\\\u001b[2m303\u001b[0m\u001b]8;;\u001b\\\n",
       "\u001b[2;36m                    \u001b[0m         retrying with ContentType Model: Failed calling                       \u001b[2m                \u001b[0m\n",
       "\u001b[2;36m                    \u001b[0m         list_hub_content_versions: An error occurred \u001b[1m(\u001b[0mResourceNotFound\u001b[1m)\u001b[0m when  \u001b[2m                \u001b[0m\n",
       "\u001b[2;36m                    \u001b[0m         calling the ListHubContentVersions operation: Hub content with name   \u001b[2m                \u001b[0m\n",
       "\u001b[2;36m                    \u001b[0m         blog-model-test0213 does not exist.                                   \u001b[2m                \u001b[0m\n"
      ]
     },
     "metadata": {},
     "output_type": "display_data"
    },
    {
     "data": {
      "text/html": [
       "<pre style=\"white-space:pre;overflow-x:auto;line-height:normal;font-family:Menlo,'DejaVu Sans Mono',consolas,'Courier New',monospace\"><span style=\"color: #7fbfbf; text-decoration-color: #7fbfbf\">                    </span><span style=\"color: #0069ff; text-decoration-color: #0069ff; font-weight: bold\">INFO    </span> Received exeption while calling APIs for ContentType ModelReference,  <a href=\"file:///opt/conda/lib/python3.11/site-packages/sagemaker/jumpstart/accessors.py\" target=\"_blank\"><span style=\"color: #7f7f7f; text-decoration-color: #7f7f7f\">accessors.py</span></a><span style=\"color: #7f7f7f; text-decoration-color: #7f7f7f\">:</span><a href=\"file:///opt/conda/lib/python3.11/site-packages/sagemaker/jumpstart/accessors.py#303\" target=\"_blank\"><span style=\"color: #7f7f7f; text-decoration-color: #7f7f7f\">303</span></a>\n",
       "<span style=\"color: #7fbfbf; text-decoration-color: #7fbfbf\">                    </span>         retrying with ContentType Model: Failed calling                       <span style=\"color: #7f7f7f; text-decoration-color: #7f7f7f\">                </span>\n",
       "<span style=\"color: #7fbfbf; text-decoration-color: #7fbfbf\">                    </span>         list_hub_content_versions: An error occurred <span style=\"font-weight: bold\">(</span>ResourceNotFound<span style=\"font-weight: bold\">)</span> when  <span style=\"color: #7f7f7f; text-decoration-color: #7f7f7f\">                </span>\n",
       "<span style=\"color: #7fbfbf; text-decoration-color: #7fbfbf\">                    </span>         calling the ListHubContentVersions operation: Hub content with name   <span style=\"color: #7f7f7f; text-decoration-color: #7f7f7f\">                </span>\n",
       "<span style=\"color: #7fbfbf; text-decoration-color: #7fbfbf\">                    </span>         blog-model-test0213 does not exist.                                   <span style=\"color: #7f7f7f; text-decoration-color: #7f7f7f\">                </span>\n",
       "</pre>\n"
      ],
      "text/plain": [
       "\u001b[2;36m                   \u001b[0m\u001b[2;36m \u001b[0m\u001b[1;38;2;0;105;255mINFO    \u001b[0m Received exeption while calling APIs for ContentType ModelReference,  \u001b]8;id=607221;file:///opt/conda/lib/python3.11/site-packages/sagemaker/jumpstart/accessors.py\u001b\\\u001b[2maccessors.py\u001b[0m\u001b]8;;\u001b\\\u001b[2m:\u001b[0m\u001b]8;id=462711;file:///opt/conda/lib/python3.11/site-packages/sagemaker/jumpstart/accessors.py#303\u001b\\\u001b[2m303\u001b[0m\u001b]8;;\u001b\\\n",
       "\u001b[2;36m                    \u001b[0m         retrying with ContentType Model: Failed calling                       \u001b[2m                \u001b[0m\n",
       "\u001b[2;36m                    \u001b[0m         list_hub_content_versions: An error occurred \u001b[1m(\u001b[0mResourceNotFound\u001b[1m)\u001b[0m when  \u001b[2m                \u001b[0m\n",
       "\u001b[2;36m                    \u001b[0m         calling the ListHubContentVersions operation: Hub content with name   \u001b[2m                \u001b[0m\n",
       "\u001b[2;36m                    \u001b[0m         blog-model-test0213 does not exist.                                   \u001b[2m                \u001b[0m\n"
      ]
     },
     "metadata": {},
     "output_type": "display_data"
    },
    {
     "data": {
      "text/plain": [
       "'Custom-Model-Hub1-2025-02-17-14-51-42-318'"
      ]
     },
     "execution_count": 27,
     "metadata": {},
     "output_type": "execute_result"
    }
   ],
   "source": [
    "# deploy the model from the hub as an endpoint\n",
    "from sagemaker.jumpstart.model import JumpStartModel\n",
    "\n",
    "model = JumpStartModel(model_id=model_id, model_version=version, hub_name=HUB_ARN, region=REGION)\n",
    "predictor = model.deploy(accept_eula=True, initial_instance_count=1, instance_type=\"ml.c5.4xlarge\")\n",
    "\n",
    "endpoint_name = predictor.endpoint_name\n",
    "endpoint_name"
   ]
  },
  {
   "cell_type": "markdown",
   "id": "fd8fff0d-4fc2-4d8c-a60a-ca357d85c271",
   "metadata": {},
   "source": [
    "# 10. Lets invoke the newly deployed endpoint"
   ]
  },
  {
   "cell_type": "code",
   "execution_count": 28,
   "id": "b7caa18a-5784-42b2-80e0-3c9a9da640f6",
   "metadata": {},
   "outputs": [
    {
     "name": "stdout",
     "output_type": "stream",
     "text": [
      "Input: [[-0.08725895  0.26641974]]\n",
      "Predicted output: 1.0\n"
     ]
    }
   ],
   "source": [
    "# Prepare the input data\n",
    "X_test = np.random.rand(1, 2) * 10 - 5  # Generate a random test sample\n",
    "\n",
    "# Preprocess the input data\n",
    "X_tensor = preprocess_input(X_test)\n",
    "\n",
    "# Convert the input data to JSON\n",
    "input_data = {\"features\": X_tensor.tolist()}\n",
    "payload = json.dumps(input_data)\n",
    "\n",
    "# Invoke the SageMaker endpoint\n",
    "response = sagemaker_runtime.invoke_endpoint(\n",
    "    EndpointName=endpoint_name, ContentType=\"application/json\", Body=payload\n",
    ")\n",
    "\n",
    "# Postprocess the model output\n",
    "result = json.loads(response[\"Body\"].read().decode())\n",
    "output = postprocess_output(torch.tensor(result[\"output\"]))\n",
    "\n",
    "print(f\"Input: {X_test}\")\n",
    "print(f\"Predicted output: {output}\")"
   ]
  },
  {
   "cell_type": "markdown",
   "id": "a972d0b2-a159-4b7e-8a5b-128cbacee9aa",
   "metadata": {},
   "source": [
    "# 11. Clean up"
   ]
  },
  {
   "cell_type": "code",
   "execution_count": 29,
   "id": "d86317c7-f6c9-4322-88c4-a831bb19e193",
   "metadata": {},
   "outputs": [
    {
     "name": "stdout",
     "output_type": "stream",
     "text": [
      "Endpoint 'Custom-Model-Hub1-2025-02-17-14-51-42-318' still exists. Deleting.....\n"
     ]
    },
    {
     "data": {
      "text/html": [
       "<pre style=\"white-space:pre;overflow-x:auto;line-height:normal;font-family:Menlo,'DejaVu Sans Mono',consolas,'Courier New',monospace\"><span style=\"color: #7fbfbf; text-decoration-color: #7fbfbf\">[02/17/25 14:55:15] </span><span style=\"color: #0069ff; text-decoration-color: #0069ff; font-weight: bold\">INFO    </span> Deleting endpoint with name: Custom-Model-Hub1-<span style=\"color: #008080; text-decoration-color: #008080; font-weight: bold\">2025</span>-02-17-14-51-42-318 <a href=\"file:///opt/conda/lib/python3.11/site-packages/sagemaker/session.py\" target=\"_blank\"><span style=\"color: #7f7f7f; text-decoration-color: #7f7f7f\">session.py</span></a><span style=\"color: #7f7f7f; text-decoration-color: #7f7f7f\">:</span><a href=\"file:///opt/conda/lib/python3.11/site-packages/sagemaker/session.py#4855\" target=\"_blank\"><span style=\"color: #7f7f7f; text-decoration-color: #7f7f7f\">4855</span></a>\n",
       "</pre>\n"
      ],
      "text/plain": [
       "\u001b[2;36m[02/17/25 14:55:15]\u001b[0m\u001b[2;36m \u001b[0m\u001b[1;38;2;0;105;255mINFO    \u001b[0m Deleting endpoint with name: Custom-Model-Hub1-\u001b[1;36m2025\u001b[0m-02-17-14-51-42-318 \u001b]8;id=624158;file:///opt/conda/lib/python3.11/site-packages/sagemaker/session.py\u001b\\\u001b[2msession.py\u001b[0m\u001b]8;;\u001b\\\u001b[2m:\u001b[0m\u001b]8;id=535692;file:///opt/conda/lib/python3.11/site-packages/sagemaker/session.py#4855\u001b\\\u001b[2m4855\u001b[0m\u001b]8;;\u001b\\\n"
      ]
     },
     "metadata": {},
     "output_type": "display_data"
    }
   ],
   "source": [
    "del_endpoint(endpoint_name)"
   ]
  },
  {
   "cell_type": "markdown",
   "id": "09c10aec",
   "metadata": {},
   "source": [
    "## Notebook CI Test Results\n",
    "\n",
    "This notebook was tested in multiple regions. The test results are as follows, except for us-west-2 which is shown at the top of the notebook.\n",
    "\n",
    "\n",
    "![This us-east-1 badge failed to load. Check your device's internet connectivity, otherwise the service is currently unavailable](https://prod.us-west-2.tcx-beacon.docs.aws.dev/sagemaker-nb/us-east-1/NOTEBOOK_PATH)\n",
    "\n",
    "![This us-east-2 badge failed to load. Check your device's internet connectivity, otherwise the service is currently unavailable](https://prod.us-west-2.tcx-beacon.docs.aws.dev/sagemaker-nb/us-east-2/NOTEBOOK_PATH)\n",
    "\n",
    "![This us-west-1 badge failed to load. Check your device's internet connectivity, otherwise the service is currently unavailable](https://prod.us-west-2.tcx-beacon.docs.aws.dev/sagemaker-nb/us-west-1/NOTEBOOK_PATH)\n",
    "\n",
    "![This ca-central-1 badge failed to load. Check your device's internet connectivity, otherwise the service is currently unavailable](https://prod.us-west-2.tcx-beacon.docs.aws.dev/sagemaker-nb/ca-central-1/NOTEBOOK_PATH)\n",
    "\n",
    "![This sa-east-1 badge failed to load. Check your device's internet connectivity, otherwise the service is currently unavailable](https://prod.us-west-2.tcx-beacon.docs.aws.dev/sagemaker-nb/sa-east-1/NOTEBOOK_PATH)\n",
    "\n",
    "![This eu-west-1 badge failed to load. Check your device's internet connectivity, otherwise the service is currently unavailable](https://prod.us-west-2.tcx-beacon.docs.aws.dev/sagemaker-nb/eu-west-1/NOTEBOOK_PATH)\n",
    "\n",
    "![This eu-west-2 badge failed to load. Check your device's internet connectivity, otherwise the service is currently unavailable](https://prod.us-west-2.tcx-beacon.docs.aws.dev/sagemaker-nb/eu-west-2/NOTEBOOK_PATH)\n",
    "\n",
    "![This eu-west-3 badge failed to load. Check your device's internet connectivity, otherwise the service is currently unavailable](https://prod.us-west-2.tcx-beacon.docs.aws.dev/sagemaker-nb/eu-west-3/NOTEBOOK_PATH)\n",
    "\n",
    "![This eu-central-1 badge failed to load. Check your device's internet connectivity, otherwise the service is currently unavailable](https://prod.us-west-2.tcx-beacon.docs.aws.dev/sagemaker-nb/eu-central-1/NOTEBOOK_PATH)\n",
    "\n",
    "![This eu-north-1 badge failed to load. Check your device's internet connectivity, otherwise the service is currently unavailable](https://prod.us-west-2.tcx-beacon.docs.aws.dev/sagemaker-nb/eu-north-1/NOTEBOOK_PATH)\n",
    "\n",
    "![This ap-southeast-1 badge failed to load. Check your device's internet connectivity, otherwise the service is currently unavailable](https://prod.us-west-2.tcx-beacon.docs.aws.dev/sagemaker-nb/ap-southeast-1/NOTEBOOK_PATH)\n",
    "\n",
    "![This ap-southeast-2 badge failed to load. Check your device's internet connectivity, otherwise the service is currently unavailable](https://prod.us-west-2.tcx-beacon.docs.aws.dev/sagemaker-nb/ap-southeast-2/NOTEBOOK_PATH)\n",
    "\n",
    "![This ap-northeast-1 badge failed to load. Check your device's internet connectivity, otherwise the service is currently unavailable](https://prod.us-west-2.tcx-beacon.docs.aws.dev/sagemaker-nb/ap-northeast-1/NOTEBOOK_PATH)\n",
    "\n",
    "![This ap-northeast-2 badge failed to load. Check your device's internet connectivity, otherwise the service is currently unavailable](https://prod.us-west-2.tcx-beacon.docs.aws.dev/sagemaker-nb/ap-northeast-2/NOTEBOOK_PATH)\n",
    "\n",
    "![This ap-south-1 badge failed to load. Check your device's internet connectivity, otherwise the service is currently unavailable](https://prod.us-west-2.tcx-beacon.docs.aws.dev/sagemaker-nb/ap-south-1/NOTEBOOK_PATH)\n"
   ]
  }
 ],
 "metadata": {
  "kernelspec": {
   "display_name": "Python 3 (ipykernel)",
   "language": "python",
   "name": "python3"
  },
  "language_info": {
   "codemirror_mode": {
    "name": "ipython",
    "version": 3
   },
   "file_extension": ".py",
   "mimetype": "text/x-python",
   "name": "python",
   "nbconvert_exporter": "python",
   "pygments_lexer": "ipython3",
   "version": "3.11.10"
  }
 },
 "nbformat": 4,
 "nbformat_minor": 5
}
